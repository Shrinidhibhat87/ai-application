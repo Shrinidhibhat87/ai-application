{
 "cells": [
  {
   "cell_type": "markdown",
   "metadata": {
    "colab_type": "text",
    "id": "5IKYN_qOcTPG"
   },
   "source": [
    "# Testing your Data Science Skills with TITANIC DATASET"
   ]
  },
  {
   "cell_type": "markdown",
   "metadata": {},
   "source": [
    "## Introduction\n",
    "\n",
    "Hi! Welcome to our small notebook for self-evaluating your Data Science skills. Since you want to join the AI Track you should have some prior coding experience, for example by taking the Data Science track in the last semester or using Pandas/Numpy/Matplotlib in your studies or Hiwi-Job.\n",
    "\n",
    "If you never ever heard of Pandas/Numpy/Matplotlib you probably already can stop reading here - the Data Science track might be just right to start! \n",
    "\n",
    "This notebook won't be evaluated, we even won't see it at all. If you want to cheat - we cannot hinder you, but we also can't help you changing tracks after the semester started. Be honest to yourself, it's totally fine to start with the basics :) \n",
    "\n",
    "\n",
    "That's it with the trivia. We did the notebook ourselfes and needed ~30 minutes to solve it, just to give you a rough estimate. "
   ]
  },
  {
   "cell_type": "markdown",
   "metadata": {
    "colab_type": "text",
    "id": "AUrnQfPPcTPQ"
   },
   "source": [
    "## Needed Skills\n",
    "\n",
    "- Know how to clean data\n",
    "- Know how to investigate your data through visualizations\n",
    "- Explore what representations exist in your dataset\n",
    "- Create new data/features using the data at hand\n",
    "\n",
    "Everything you will need to do will be inside of this notebook, and We've marked which cells you will need to edit by saying <b><font color='red'>\"TODO! COMPLETE THIS SECTION!\"</font></b>."
   ]
  },
  {
   "cell_type": "markdown",
   "metadata": {
    "colab_type": "text",
    "id": "NCSSHIMWcTPS"
   },
   "source": [
    "\n",
    "\n",
    "## import libraries\n",
    "\n",
    "Seaborn is a Python data visualization library based on matplotlib. It provides a high-level interface for drawing attractive and informative statistical graphics. And it generates prettier plots than matplotlib.\n",
    "\n",
    "It is ok if you don't know how to plot data with Seaborn. That's what google is for, or you can also use whatever library you want."
   ]
  },
  {
   "cell_type": "code",
   "execution_count": 93,
   "metadata": {
    "colab": {},
    "colab_type": "code",
    "id": "3QOAscN3cTPT"
   },
   "outputs": [],
   "source": [
    "import warnings\n",
    "warnings.filterwarnings('ignore')\n",
    "\n",
    "import pandas as pd\n",
    "import matplotlib.pyplot as plt\n",
    "import seaborn as sns\n",
    "import numpy as np"
   ]
  },
  {
   "cell_type": "markdown",
   "metadata": {
    "colab_type": "text",
    "id": "3tK0g33UcTPX"
   },
   "source": [
    "<h4><font color='red'>TODO! COMPLETE THIS SECTION!</font></h4>"
   ]
  },
  {
   "cell_type": "code",
   "execution_count": 94,
   "metadata": {
    "colab": {},
    "colab_type": "code",
    "id": "s-i9uzplcTPX"
   },
   "outputs": [],
   "source": [
    "# Import the csv file using pandas\n",
    "train = pd.read_csv('train.csv')"
   ]
  },
  {
   "cell_type": "markdown",
   "metadata": {
    "colab_type": "text",
    "id": "0bNAz3OJcTPb"
   },
   "source": [
    "<h4><font color='red'>TODO! COMPLETE THIS SECTION!</font></h4>"
   ]
  },
  {
   "cell_type": "code",
   "execution_count": 95,
   "metadata": {
    "colab": {
     "base_uri": "https://localhost:8080/",
     "height": 34
    },
    "colab_type": "code",
    "id": "P3sCowudcTPd",
    "outputId": "34a44e44-7a55-40c4-eee3-22fad74406ea"
   },
   "outputs": [
    {
     "data": {
      "text/plain": [
       "(891, 12)"
      ]
     },
     "execution_count": 95,
     "metadata": {},
     "output_type": "execute_result"
    }
   ],
   "source": [
    "# display the shape of the dataframe\n",
    "train.shape"
   ]
  },
  {
   "cell_type": "markdown",
   "metadata": {
    "colab_type": "text",
    "id": "7o7Wj8pIcTPi"
   },
   "source": [
    "<h4><font color='red'>TODO! COMPLETE THIS SECTION!</font></h4>"
   ]
  },
  {
   "cell_type": "code",
   "execution_count": 96,
   "metadata": {
    "colab": {
     "base_uri": "https://localhost:8080/",
     "height": 496
    },
    "colab_type": "code",
    "id": "Jvq7NnidcTPj",
    "outputId": "00b71f9f-11de-4bd2-dad1-a73549d2715a"
   },
   "outputs": [
    {
     "data": {
      "text/html": [
       "<div>\n",
       "<style scoped>\n",
       "    .dataframe tbody tr th:only-of-type {\n",
       "        vertical-align: middle;\n",
       "    }\n",
       "\n",
       "    .dataframe tbody tr th {\n",
       "        vertical-align: top;\n",
       "    }\n",
       "\n",
       "    .dataframe thead th {\n",
       "        text-align: right;\n",
       "    }\n",
       "</style>\n",
       "<table border=\"1\" class=\"dataframe\">\n",
       "  <thead>\n",
       "    <tr style=\"text-align: right;\">\n",
       "      <th></th>\n",
       "      <th>PassengerId</th>\n",
       "      <th>Survived</th>\n",
       "      <th>Pclass</th>\n",
       "      <th>Name</th>\n",
       "      <th>Sex</th>\n",
       "      <th>Age</th>\n",
       "      <th>SibSp</th>\n",
       "      <th>Parch</th>\n",
       "      <th>Ticket</th>\n",
       "      <th>Fare</th>\n",
       "      <th>Cabin</th>\n",
       "      <th>Embarked</th>\n",
       "    </tr>\n",
       "  </thead>\n",
       "  <tbody>\n",
       "    <tr>\n",
       "      <th>0</th>\n",
       "      <td>1</td>\n",
       "      <td>0</td>\n",
       "      <td>3</td>\n",
       "      <td>Braund, Mr. Owen Harris</td>\n",
       "      <td>male</td>\n",
       "      <td>22.0</td>\n",
       "      <td>1</td>\n",
       "      <td>0</td>\n",
       "      <td>A/5 21171</td>\n",
       "      <td>7.2500</td>\n",
       "      <td>NaN</td>\n",
       "      <td>S</td>\n",
       "    </tr>\n",
       "    <tr>\n",
       "      <th>1</th>\n",
       "      <td>2</td>\n",
       "      <td>1</td>\n",
       "      <td>1</td>\n",
       "      <td>Cumings, Mrs. John Bradley (Florence Briggs Th...</td>\n",
       "      <td>female</td>\n",
       "      <td>38.0</td>\n",
       "      <td>1</td>\n",
       "      <td>0</td>\n",
       "      <td>PC 17599</td>\n",
       "      <td>71.2833</td>\n",
       "      <td>C85</td>\n",
       "      <td>C</td>\n",
       "    </tr>\n",
       "    <tr>\n",
       "      <th>2</th>\n",
       "      <td>3</td>\n",
       "      <td>1</td>\n",
       "      <td>3</td>\n",
       "      <td>Heikkinen, Miss. Laina</td>\n",
       "      <td>female</td>\n",
       "      <td>26.0</td>\n",
       "      <td>0</td>\n",
       "      <td>0</td>\n",
       "      <td>STON/O2. 3101282</td>\n",
       "      <td>7.9250</td>\n",
       "      <td>NaN</td>\n",
       "      <td>S</td>\n",
       "    </tr>\n",
       "    <tr>\n",
       "      <th>3</th>\n",
       "      <td>4</td>\n",
       "      <td>1</td>\n",
       "      <td>1</td>\n",
       "      <td>Futrelle, Mrs. Jacques Heath (Lily May Peel)</td>\n",
       "      <td>female</td>\n",
       "      <td>35.0</td>\n",
       "      <td>1</td>\n",
       "      <td>0</td>\n",
       "      <td>113803</td>\n",
       "      <td>53.1000</td>\n",
       "      <td>C123</td>\n",
       "      <td>S</td>\n",
       "    </tr>\n",
       "    <tr>\n",
       "      <th>4</th>\n",
       "      <td>5</td>\n",
       "      <td>0</td>\n",
       "      <td>3</td>\n",
       "      <td>Allen, Mr. William Henry</td>\n",
       "      <td>male</td>\n",
       "      <td>35.0</td>\n",
       "      <td>0</td>\n",
       "      <td>0</td>\n",
       "      <td>373450</td>\n",
       "      <td>8.0500</td>\n",
       "      <td>NaN</td>\n",
       "      <td>S</td>\n",
       "    </tr>\n",
       "  </tbody>\n",
       "</table>\n",
       "</div>"
      ],
      "text/plain": [
       "   PassengerId  Survived  Pclass  \\\n",
       "0            1         0       3   \n",
       "1            2         1       1   \n",
       "2            3         1       3   \n",
       "3            4         1       1   \n",
       "4            5         0       3   \n",
       "\n",
       "                                                Name     Sex   Age  SibSp  \\\n",
       "0                            Braund, Mr. Owen Harris    male  22.0      1   \n",
       "1  Cumings, Mrs. John Bradley (Florence Briggs Th...  female  38.0      1   \n",
       "2                             Heikkinen, Miss. Laina  female  26.0      0   \n",
       "3       Futrelle, Mrs. Jacques Heath (Lily May Peel)  female  35.0      1   \n",
       "4                           Allen, Mr. William Henry    male  35.0      0   \n",
       "\n",
       "   Parch            Ticket     Fare Cabin Embarked  \n",
       "0      0         A/5 21171   7.2500   NaN        S  \n",
       "1      0          PC 17599  71.2833   C85        C  \n",
       "2      0  STON/O2. 3101282   7.9250   NaN        S  \n",
       "3      0            113803  53.1000  C123        S  \n",
       "4      0            373450   8.0500   NaN        S  "
      ]
     },
     "execution_count": 96,
     "metadata": {},
     "output_type": "execute_result"
    }
   ],
   "source": [
    "# use head and display the first 5 rows of your dataframe\n",
    "train.head(5)"
   ]
  },
  {
   "cell_type": "markdown",
   "metadata": {
    "colab_type": "text",
    "id": "W_BJc9MkcTPn"
   },
   "source": [
    "Short description of the data\n",
    "\n",
    "1. The Survived variable is our outcome or dependent variable. It is a binary nominal datatype of 1 for survived and 0 for did not survive. All other variables are potential predictors or independent variables. What's important to note, more predictor variables do not make a better model, but the right variables.\n",
    "2. The PassengerID and Ticket variables are assumed to be random unique identifiers, that have no impact on the outcome variable. Thus, they will be excluded from analysis.\n",
    "3. The Pclass variable is an ordinal datatype for the ticket class, a proxy for socio-economic status (SES), representing 1 = upper class, 2 = middle class, and 3 = lower class.\n",
    "4. The Name variable is a nominal datatype. Besides the name of the passenger it also holds the information about the title, like master and so on.\n",
    "5. The Sex stores the information about the passengers sex as string (female or male)\n",
    "6. Embarked variables are a nominal datatype and hold the information about the port of embarkation (C = Cherbourg, Q = Queenstown, S = Southampton)\n",
    "6. The Age and Fare variable are continuous quantitative datatypes.\n",
    "7. The SibSp represents number of related siblings/spouse aboard and Parch represents number of related parents/children aboard. Both are discrete quantitative datatypes. \n",
    "8. The Cabin represents the cabin number.\n",
    "\n",
    "Let's check how many entries are nan  "
   ]
  },
  {
   "cell_type": "code",
   "execution_count": 97,
   "metadata": {
    "colab": {
     "base_uri": "https://localhost:8080/",
     "height": 238
    },
    "colab_type": "code",
    "id": "vbEvq7QncTPo",
    "outputId": "b741030b-0299-4a42-93cb-d9946dd569e0"
   },
   "outputs": [
    {
     "data": {
      "text/plain": [
       "PassengerId      0\n",
       "Survived         0\n",
       "Pclass           0\n",
       "Name             0\n",
       "Sex              0\n",
       "Age            177\n",
       "SibSp            0\n",
       "Parch            0\n",
       "Ticket           0\n",
       "Fare             0\n",
       "Cabin          687\n",
       "Embarked         2\n",
       "dtype: int64"
      ]
     },
     "execution_count": 97,
     "metadata": {},
     "output_type": "execute_result"
    }
   ],
   "source": [
    "# use the isnull method to find out which columns contain null values\n",
    "# The below method helps in counting the the NaN -> Not a number value for each column\n",
    "train.isnull().sum()\n",
    "\n",
    "# The below method helps in printing out all the possibilities of the isnull() function\n",
    "# train.isna()"
   ]
  },
  {
   "cell_type": "markdown",
   "metadata": {
    "colab_type": "text",
    "id": "RaB_u3XLcTPr"
   },
   "source": [
    "There are NaN values in our data set in the age column. Furthermore, the Cabin column has a lot of missing values as well. These NaN values will get in the way of training a machine learning model. You need to fill in the NaN values with replacement values in order for the model to have a complete prediction for every row in the data set. This process is known as imputation and you will practice how to replace the missing data as well as get a feeling what story the data is telling you by using visualizations.\n",
    "\n",
    "Let's start with the age columns."
   ]
  },
  {
   "cell_type": "markdown",
   "metadata": {
    "colab_type": "text",
    "id": "GOzZ0G0ScTPs"
   },
   "source": [
    "## visualize and clean data: Age\n",
    "\n",
    "Let's look how the age is dristributed. First create a copy of the dataframe to avoid maniplulating the main dataframe while doing first investigations.\n",
    "\n",
    "Then plot the distribution of the age column by using seaborns displot function (you can google \"seaborn distribution\" to see how the function is used)."
   ]
  },
  {
   "cell_type": "markdown",
   "metadata": {
    "colab_type": "text",
    "id": "N9hxBoRzcTPt"
   },
   "source": [
    "<h4><font color='red'>TODO! COMPLETE THIS SECTION!</font></h4>"
   ]
  },
  {
   "cell_type": "code",
   "execution_count": 98,
   "metadata": {
    "colab": {
     "base_uri": "https://localhost:8080/",
     "height": 380
    },
    "colab_type": "code",
    "id": "s-xLds-AcTPu",
    "outputId": "e2cb7336-62c9-4681-d88d-e4de1d0e738f"
   },
   "outputs": [
    {
     "data": {
      "text/plain": [
       "<matplotlib.axes._subplots.AxesSubplot at 0x7fb4ae4486d8>"
      ]
     },
     "execution_count": 98,
     "metadata": {},
     "output_type": "execute_result"
    },
    {
     "data": {
      "image/png": "[encoded data removed]",
      "text/plain": [
       "<Figure size 432x288 with 1 Axes>"
      ]
     },
     "metadata": {},
     "output_type": "display_data"
    }
   ],
   "source": [
    "# make a copy of the dataframe\n",
    "copy = train.copy()\n",
    "# drop all nan values of the age column using dropna.\n",
    "# don't forget to set the inplace parameter to True\n",
    "\n",
    "###### YOUR CODE ######\n",
    "copy.dropna(subset=['Age'], inplace=True)\n",
    "\n",
    "# The below print shows that the column Age has its null/None values removed\n",
    "# print(copy.isnull().sum())\n",
    "\n",
    "# plot the distribution of the age by using seaborns displot function\n",
    "# input the Age column of your copy dataframe.\n",
    "# And set the bins parameter to 15\n",
    "\n",
    "###### YOUR CODE ######\n",
    "sns.distplot(copy['Age'], bins=15)\n",
    "# plt.show()"
   ]
  },
  {
   "cell_type": "markdown",
   "metadata": {
    "colab_type": "text",
    "id": "BpPIo5JAcTPx"
   },
   "source": [
    "The distribution does not look crazy skewed. thus let's try using the mean value of the age to fill all nan values (if you want to use median instead feel free to try it) and display again the distribution: "
   ]
  },
  {
   "cell_type": "markdown",
   "metadata": {
    "colab_type": "text",
    "id": "8GznW8ezcTPy"
   },
   "source": [
    "<h4><font color='red'>TODO! COMPLETE THIS SECTION!</font></h4>"
   ]
  },
  {
   "cell_type": "code",
   "execution_count": 99,
   "metadata": {
    "colab": {
     "base_uri": "https://localhost:8080/",
     "height": 371
    },
    "colab_type": "code",
    "id": "mW7dhCK2cTP0",
    "outputId": "373bc709-036e-42fb-ca64-79b83c31f12d"
   },
   "outputs": [
    {
     "data": {
      "image/png": "[encoded data removed]",
      "text/plain": [
       "<Figure size 1080x360 with 2 Axes>"
      ]
     },
     "metadata": {},
     "output_type": "display_data"
    }
   ],
   "source": [
    "# make a copy of the dataframe\n",
    "copy = train.copy()\n",
    "copy_x0 = train.copy()\n",
    "\n",
    "copy_x0.dropna(subset=['Age'], inplace=True)\n",
    "\n",
    "# fill NaN values in age column with mean value. use the .fillna method. \n",
    "# Don't forget to set the inplace parameter to True\n",
    "###### YOUR CODE ######\n",
    "copy['Age'].fillna(value = copy['Age'].mean(), inplace = True)\n",
    "\n",
    "# we will create a subplot with 2 figures to look how the age distribution changed\n",
    "fig, ax = plt.subplots(1, 2, figsize=(15, 5))\n",
    "\n",
    "# this will plot the age distribution without nan values.\n",
    "# the ax parameter is set to ax[0] so that the subplot knows where to place the plot\n",
    "###### YOUR CODE ######\n",
    "sns.distplot(copy_x0['Age'], bins=15, ax=ax[0])\n",
    "\n",
    "# plot here the age distribution in the copy dataframe where you\n",
    "# replaced all nan values with the mean age value. \n",
    "# don't forget to set the ax parameter to ax[1]\n",
    "\n",
    "###### YOUR CODE ######\n",
    "sns.distplot(copy['Age'], bins=15, ax=ax[1])\n",
    "\n",
    "plt.show()"
   ]
  },
  {
   "cell_type": "code",
   "execution_count": 38,
   "metadata": {},
   "outputs": [
    {
     "name": "stdout",
     "output_type": "stream",
     "text": [
      "80.0\n",
      "0.42\n"
     ]
    }
   ],
   "source": [
    "print(max(train['Age']))\n",
    "print(min(train['Age']))"
   ]
  },
  {
   "cell_type": "markdown",
   "metadata": {
    "colab_type": "text",
    "id": "xtxDJb43cTP3"
   },
   "source": [
    "now there is a very large peak. maybe just the mean value is not a very good idea. another idea is to generate random numbers between (mean - std) and (mean + std). For this you will generate an age_generator function below."
   ]
  },
  {
   "cell_type": "markdown",
   "metadata": {
    "colab_type": "text",
    "id": "rfMd8QZBcTP4"
   },
   "source": [
    "<h4><font color='red'>TODO! COMPLETE THIS SECTION!</font></h4>"
   ]
  },
  {
   "cell_type": "code",
   "execution_count": 102,
   "metadata": {
    "colab": {},
    "colab_type": "code",
    "id": "zqNDF4d9cTP4"
   },
   "outputs": [],
   "source": [
    "def age_generator(df):\n",
    "    # save the mean value of the age column here\n",
    "    ###### YOUR CODE ######\n",
    "    age_avg = df['Age'].mean()\n",
    "    \n",
    "    # save the standard deviation of the age column here\n",
    "    ###### YOUR CODE ######\n",
    "    age_std = df['Age'].std()\n",
    "    \n",
    "    # we need the number of null values to know how much random ages to generate\n",
    "    # use the isnull and sum functions\n",
    "    ###### YOUR CODE ######\n",
    "    age_null_count = df['Age'].isnull().sum()\n",
    "\n",
    "    # this will generate a list of random numbers between (mean - std) and (mean + std)\n",
    "    age_null_random_list = np.random.randint(\n",
    "        age_avg - age_std, age_avg + age_std, size=age_null_count)\n",
    "    # select all nan ages and set it equal to the list of random ages\n",
    "    df['Age'][np.isnan(df['Age'])] = age_null_random_list\n",
    "    return df"
   ]
  },
  {
   "cell_type": "markdown",
   "metadata": {
    "colab_type": "text",
    "id": "5XVIS5SUcTP7"
   },
   "source": [
    "After successfully implementig the age_generator you can now use it."
   ]
  },
  {
   "cell_type": "code",
   "execution_count": 105,
   "metadata": {
    "colab": {
     "base_uri": "https://localhost:8080/",
     "height": 371
    },
    "colab_type": "code",
    "id": "LTFT2KHmcTP8",
    "outputId": "147745ff-3f57-4025-9f86-7d6d1d8cd99c"
   },
   "outputs": [
    {
     "data": {
      "image/png": "[encoded data removed]",
      "text/plain": [
       "<Figure size 1080x360 with 2 Axes>"
      ]
     },
     "metadata": {},
     "output_type": "display_data"
    }
   ],
   "source": [
    "# again let's first create a copy of our dataframe\n",
    "copy = train.copy()\n",
    "copy_x0 = train.copy()\n",
    "\n",
    "# apply the age_generator function to the copied dataframe\n",
    "copy = age_generator(copy)\n",
    "\n",
    "# and here we will plot again the distribution of the age from the raw dataframe\n",
    "# and the dataframe where you replaced all nan values\n",
    "fig, ax = plt.subplots(1, 2, figsize=(15, 5))\n",
    "\n",
    "# plot the age column of the train data. \n",
    "# don't forget to drop the nan values otherwise an error will occure.\n",
    "# set the bins and ax like in the plot above\n",
    "###### YOUR CODE ######\n",
    "copy_x0.dropna(subset=['Age'], inplace=True)\n",
    "sns.distplot(copy_x0['Age'], bins=15, ax=ax[0])\n",
    "\n",
    "# plot the age column of the copy data.\n",
    "# you don't have to drop the nan values since to replaced them\n",
    "# with the age_generator.\n",
    "# set the bins and ax like in the plot above\n",
    "###### YOUR CODE ######\n",
    "sns.distplot(copy['Age'], bins=15, ax=ax[1])\n",
    "\n",
    "plt.show()"
   ]
  },
  {
   "cell_type": "markdown",
   "metadata": {
    "colab_type": "text",
    "id": "qUjvg5kScTP_"
   },
   "source": [
    "now the distribution is slightly skewed right, but this seems better than just using the mean value. So let's use the random age distribtion as cleaning method"
   ]
  },
  {
   "cell_type": "markdown",
   "metadata": {
    "colab_type": "text",
    "id": "rCWRae4ncTQB"
   },
   "source": [
    "<h4><font color='red'>TODO! COMPLETE THIS SECTION!</font></h4>"
   ]
  },
  {
   "cell_type": "code",
   "execution_count": 106,
   "metadata": {
    "colab": {
     "base_uri": "https://localhost:8080/",
     "height": 238
    },
    "colab_type": "code",
    "id": "LS9d0FlmcTQC",
    "outputId": "99cddce9-2986-4f9f-b935-39b0daaa06c2"
   },
   "outputs": [
    {
     "data": {
      "text/plain": [
       "PassengerId      0\n",
       "Survived         0\n",
       "Pclass           0\n",
       "Name             0\n",
       "Sex              0\n",
       "Age              0\n",
       "SibSp            0\n",
       "Parch            0\n",
       "Ticket           0\n",
       "Fare             0\n",
       "Cabin          687\n",
       "Embarked         2\n",
       "dtype: int64"
      ]
     },
     "execution_count": 106,
     "metadata": {},
     "output_type": "execute_result"
    }
   ],
   "source": [
    "# generate random age between (mean - std) and (mean + std)\n",
    "# this time we will apply it onto our raw dataframe since \n",
    "# we want to keep this change\n",
    "train = age_generator(train)\n",
    "\n",
    "# the age column should be clean now\n",
    "# display the sum of nan values for each column\n",
    "# use the isnull and sum functions\n",
    "\n",
    "###### YOUR CODE ######\n",
    "train.isnull().sum()"
   ]
  },
  {
   "cell_type": "markdown",
   "metadata": {
    "colab_type": "text",
    "id": "-aBp2WtdcTQJ"
   },
   "source": [
    "All NaN values should be removed from the age column. Great work. The only nan values left are in the Cabin column. But we will focus on the Cabin column later.\n",
    "\n",
    "Now let's get a feeling if the age column alone is a good feature to predict who survived. What do you think? Will it be a good predictor? \n",
    "\n",
    "We can analyze this for example with two different plots: a boxplot or as before by using a distribution plot. Let's start with a box plot"
   ]
  },
  {
   "cell_type": "markdown",
   "metadata": {
    "colab_type": "text",
    "id": "Yy4NKl8ccTQK"
   },
   "source": [
    "<h4><font color='red'>TODO! COMPLETE THIS SECTION!</font></h4>"
   ]
  },
  {
   "cell_type": "code",
   "execution_count": 68,
   "metadata": {
    "colab": {
     "base_uri": "https://localhost:8080/",
     "height": 378
    },
    "colab_type": "code",
    "id": "cG0ZI-t_cTQL",
    "outputId": "64e0f472-2c0b-4ac9-d454-ba954c9e0f45"
   },
   "outputs": [
    {
     "data": {
      "image/png": "[encoded data removed]",
      "text/plain": [
       "<Figure size 432x288 with 1 Axes>"
      ]
     },
     "metadata": {},
     "output_type": "display_data"
    }
   ],
   "source": [
    "# call the boxplot function from seaborn and set the x parameter \n",
    "# to the \"Survived\" column and the y parameter to the \"Age\" column.\n",
    "# also set the data parameter to the train dataset.\n",
    "# feel free to google seaborn boxplot if you are not sure \n",
    "# how to use it\n",
    "\n",
    "###### YOUR CODE ######\n",
    "\n",
    "ax = sns.boxplot(x=train['Survived'], y=train['Age'], data=train)\n",
    "\n",
    "plt.show()"
   ]
  },
  {
   "cell_type": "markdown",
   "metadata": {
    "colab_type": "text",
    "id": "G2DSd8FhcTQQ"
   },
   "source": [
    "We see that the age for both survived and not survived has nearly the same range. Thus the age alone won't be a good predictor if we want to know who survived and who didn't.\n",
    "\n",
    "As promised we can also use the distribution plot to visualize that the age of survived passengers and not survived passengers have a significant overlap."
   ]
  },
  {
   "cell_type": "markdown",
   "metadata": {
    "colab_type": "text",
    "id": "fiH_sLXxcTQQ"
   },
   "source": [
    "<h4><font color='red'>TODO! COMPLETE THIS SECTION!</font></h4>"
   ]
  },
  {
   "cell_type": "code",
   "execution_count": 108,
   "metadata": {},
   "outputs": [
    {
     "name": "stderr",
     "output_type": "stream",
     "text": [
      "No handles with labels found to put in legend.\n"
     ]
    },
    {
     "data": {
      "image/png": "[encoded data removed]",
      "text/plain": [
       "<Figure size 432x288 with 1 Axes>"
      ]
     },
     "metadata": {},
     "output_type": "display_data"
    }
   ],
   "source": [
    "# slice/filter the train dataframe to plot first only the survived passengers\n",
    "# and second only the not survived passengers\n",
    "train_survived = train[(train['Survived'] > 0)]\n",
    "train_notsurvived = train[(train['Survived'] < 1)]\n",
    "\n",
    "###### YOUR CODE ######\n",
    "sns.distplot(train_survived['Survived'], bins=15)\n",
    "\n",
    "###### YOUR CODE ######\n",
    "sns.distplot(train_notsurvived['Survived'], bins=15)\n",
    "\n",
    "plt.legend()\n",
    "\n",
    "plt.show()"
   ]
  },
  {
   "cell_type": "code",
   "execution_count": 12,
   "metadata": {
    "colab": {
     "base_uri": "https://localhost:8080/",
     "height": 378
    },
    "colab_type": "code",
    "id": "uE3Wxs5-cTQR",
    "outputId": "4439a86d-6fea-4d21-d06f-d56e896094b9"
   },
   "outputs": [
    {
     "data": {
      "image/png": "[encoded data removed]",
      "image/svg+xml": [
       "<?xml version=\"1.0\" encoding=\"utf-8\" standalone=\"no\"?>\n",
       "<!DOCTYPE svg PUBLIC \"-//W3C//DTD SVG 1.1//EN\"\n",
       "  \"http://www.w3.org/Graphics/SVG/1.1/DTD/svg11.dtd\">\n",
       "<!-- Created with matplotlib (https://matplotlib.org/) -->\n",
       "<svg height=\"262.19625pt\" version=\"1.1\" viewBox=\"0 0 384.828125 262.19625\" width=\"384.828125pt\" xmlns=\"http://www.w3.org/2000/svg\" xmlns:xlink=\"http://www.w3.org/1999/xlink\">\n",
       " <defs>\n",
       "  <style type=\"text/css\">\n",
       "*{stroke-linecap:butt;stroke-linejoin:round;}\n",
       "  </style>\n",
       " </defs>\n",
       " <g id=\"figure_1\">\n",
       "  <g id=\"patch_1\">\n",
       "   <path d=\"M 0 262.19625 \n",
       "L 384.828125 262.19625 \n",
       "L 384.828125 0 \n",
       "L 0 0 \n",
       "z\n",
       "\" style=\"fill:none;\"/>\n",
       "  </g>\n",
       "  <g id=\"axes_1\">\n",
       "   <g id=\"patch_2\">\n",
       "    <path d=\"M 42.828125 224.64 \n",
       "L 377.628125 224.64 \n",
       "L 377.628125 7.2 \n",
       "L 42.828125 7.2 \n",
       "z\n",
       "\" style=\"fill:#ffffff;\"/>\n",
       "   </g>\n",
       "   <g id=\"patch_3\">\n",
       "    <path clip-path=\"url(#p24e617ac82)\" d=\"M 92.696202 224.64 \n",
       "L 105.755305 224.64 \n",
       "L 105.755305 119.143504 \n",
       "L 92.696202 119.143504 \n",
       "z\n",
       "\" style=\"fill:#0000ff;opacity:0.4;\"/>\n",
       "   </g>\n",
       "   <g id=\"patch_4\">\n",
       "    <path clip-path=\"url(#p24e617ac82)\" d=\"M 105.755305 224.64 \n",
       "L 118.814407 224.64 \n",
       "L 118.814407 181.659946 \n",
       "L 105.755305 181.659946 \n",
       "z\n",
       "\" style=\"fill:#0000ff;opacity:0.4;\"/>\n",
       "   </g>\n",
       "   <g id=\"patch_5\">\n",
       "    <path clip-path=\"url(#p24e617ac82)\" d=\"M 118.814407 224.64 \n",
       "L 131.87351 224.64 \n",
       "L 131.87351 209.010889 \n",
       "L 118.814407 209.010889 \n",
       "z\n",
       "\" style=\"fill:#0000ff;opacity:0.4;\"/>\n",
       "   </g>\n",
       "   <g id=\"patch_6\">\n",
       "    <path clip-path=\"url(#p24e617ac82)\" d=\"M 131.87351 224.64 \n",
       "L 144.932612 224.64 \n",
       "L 144.932612 103.514394 \n",
       "L 131.87351 103.514394 \n",
       "z\n",
       "\" style=\"fill:#0000ff;opacity:0.4;\"/>\n",
       "   </g>\n",
       "   <g id=\"patch_7\">\n",
       "    <path clip-path=\"url(#p24e617ac82)\" d=\"M 144.932612 224.64 \n",
       "L 157.991715 224.64 \n",
       "L 157.991715 80.070728 \n",
       "L 144.932612 80.070728 \n",
       "z\n",
       "\" style=\"fill:#0000ff;opacity:0.4;\"/>\n",
       "   </g>\n",
       "   <g id=\"patch_8\">\n",
       "    <path clip-path=\"url(#p24e617ac82)\" d=\"M 157.991715 224.64 \n",
       "L 171.050817 224.64 \n",
       "L 171.050817 60.53434 \n",
       "L 157.991715 60.53434 \n",
       "z\n",
       "\" style=\"fill:#0000ff;opacity:0.4;\"/>\n",
       "   </g>\n",
       "   <g id=\"patch_9\">\n",
       "    <path clip-path=\"url(#p24e617ac82)\" d=\"M 171.050817 224.64 \n",
       "L 184.10992 224.64 \n",
       "L 184.10992 17.554286 \n",
       "L 171.050817 17.554286 \n",
       "z\n",
       "\" style=\"fill:#0000ff;opacity:0.4;\"/>\n",
       "   </g>\n",
       "   <g id=\"patch_10\">\n",
       "    <path clip-path=\"url(#p24e617ac82)\" d=\"M 184.10992 224.64 \n",
       "L 197.169022 224.64 \n",
       "L 197.169022 60.53434 \n",
       "L 184.10992 60.53434 \n",
       "z\n",
       "\" style=\"fill:#0000ff;opacity:0.4;\"/>\n",
       "   </g>\n",
       "   <g id=\"patch_11\">\n",
       "    <path clip-path=\"url(#p24e617ac82)\" d=\"M 197.169022 224.64 \n",
       "L 210.228125 224.64 \n",
       "L 210.228125 91.792561 \n",
       "L 197.169022 91.792561 \n",
       "z\n",
       "\" style=\"fill:#0000ff;opacity:0.4;\"/>\n",
       "   </g>\n",
       "   <g id=\"patch_12\">\n",
       "    <path clip-path=\"url(#p24e617ac82)\" d=\"M 210.228125 224.64 \n",
       "L 223.287228 224.64 \n",
       "L 223.287228 154.309003 \n",
       "L 210.228125 154.309003 \n",
       "z\n",
       "\" style=\"fill:#0000ff;opacity:0.4;\"/>\n",
       "   </g>\n",
       "   <g id=\"patch_13\">\n",
       "    <path clip-path=\"url(#p24e617ac82)\" d=\"M 223.287228 224.64 \n",
       "L 236.34633 224.64 \n",
       "L 236.34633 162.123558 \n",
       "L 223.287228 162.123558 \n",
       "z\n",
       "\" style=\"fill:#0000ff;opacity:0.4;\"/>\n",
       "   </g>\n",
       "   <g id=\"patch_14\">\n",
       "    <path clip-path=\"url(#p24e617ac82)\" d=\"M 236.34633 224.64 \n",
       "L 249.405433 224.64 \n",
       "L 249.405433 181.659946 \n",
       "L 236.34633 181.659946 \n",
       "z\n",
       "\" style=\"fill:#0000ff;opacity:0.4;\"/>\n",
       "   </g>\n",
       "   <g id=\"patch_15\">\n",
       "    <path clip-path=\"url(#p24e617ac82)\" d=\"M 249.405433 224.64 \n",
       "L 262.464535 224.64 \n",
       "L 262.464535 201.196334 \n",
       "L 249.405433 201.196334 \n",
       "z\n",
       "\" style=\"fill:#0000ff;opacity:0.4;\"/>\n",
       "   </g>\n",
       "   <g id=\"patch_16\">\n",
       "    <path clip-path=\"url(#p24e617ac82)\" d=\"M 262.464535 224.64 \n",
       "L 275.523638 224.64 \n",
       "L 275.523638 197.289057 \n",
       "L 262.464535 197.289057 \n",
       "z\n",
       "\" style=\"fill:#0000ff;opacity:0.4;\"/>\n",
       "   </g>\n",
       "   <g id=\"patch_17\">\n",
       "    <path clip-path=\"url(#p24e617ac82)\" d=\"M 275.523638 224.64 \n",
       "L 288.58274 224.64 \n",
       "L 288.58274 216.825445 \n",
       "L 275.523638 216.825445 \n",
       "z\n",
       "\" style=\"fill:#0000ff;opacity:0.4;\"/>\n",
       "   </g>\n",
       "   <g id=\"patch_18\">\n",
       "    <path clip-path=\"url(#p24e617ac82)\" d=\"M 288.58274 224.64 \n",
       "L 301.641843 224.64 \n",
       "L 301.641843 224.64 \n",
       "L 288.58274 224.64 \n",
       "z\n",
       "\" style=\"fill:#0000ff;opacity:0.4;\"/>\n",
       "   </g>\n",
       "   <g id=\"patch_19\">\n",
       "    <path clip-path=\"url(#p24e617ac82)\" d=\"M 301.641843 224.64 \n",
       "L 314.700945 224.64 \n",
       "L 314.700945 224.64 \n",
       "L 301.641843 224.64 \n",
       "z\n",
       "\" style=\"fill:#0000ff;opacity:0.4;\"/>\n",
       "   </g>\n",
       "   <g id=\"patch_20\">\n",
       "    <path clip-path=\"url(#p24e617ac82)\" d=\"M 314.700945 224.64 \n",
       "L 327.760048 224.64 \n",
       "L 327.760048 220.732722 \n",
       "L 314.700945 220.732722 \n",
       "z\n",
       "\" style=\"fill:#0000ff;opacity:0.4;\"/>\n",
       "   </g>\n",
       "   <g id=\"patch_21\">\n",
       "    <path clip-path=\"url(#p24e617ac82)\" d=\"M 94.409409 224.64 \n",
       "L 106.388732 224.64 \n",
       "L 106.388732 190.145293 \n",
       "L 94.409409 190.145293 \n",
       "z\n",
       "\" style=\"fill:#ff0000;opacity:0.4;\"/>\n",
       "   </g>\n",
       "   <g id=\"patch_22\">\n",
       "    <path clip-path=\"url(#p24e617ac82)\" d=\"M 106.388732 224.64 \n",
       "L 118.368054 224.64 \n",
       "L 118.368054 195.452171 \n",
       "L 106.388732 195.452171 \n",
       "z\n",
       "\" style=\"fill:#ff0000;opacity:0.4;\"/>\n",
       "   </g>\n",
       "   <g id=\"patch_23\">\n",
       "    <path clip-path=\"url(#p24e617ac82)\" d=\"M 118.368054 224.64 \n",
       "L 130.347377 224.64 \n",
       "L 130.347377 211.372805 \n",
       "L 118.368054 211.372805 \n",
       "z\n",
       "\" style=\"fill:#ff0000;opacity:0.4;\"/>\n",
       "   </g>\n",
       "   <g id=\"patch_24\">\n",
       "    <path clip-path=\"url(#p24e617ac82)\" d=\"M 130.347377 224.64 \n",
       "L 142.326699 224.64 \n",
       "L 142.326699 134.423074 \n",
       "L 130.347377 134.423074 \n",
       "z\n",
       "\" style=\"fill:#ff0000;opacity:0.4;\"/>\n",
       "   </g>\n",
       "   <g id=\"patch_25\">\n",
       "    <path clip-path=\"url(#p24e617ac82)\" d=\"M 142.326699 224.64 \n",
       "L 154.306022 224.64 \n",
       "L 154.306022 17.671759 \n",
       "L 142.326699 17.671759 \n",
       "z\n",
       "\" style=\"fill:#ff0000;opacity:0.4;\"/>\n",
       "   </g>\n",
       "   <g id=\"patch_26\">\n",
       "    <path clip-path=\"url(#p24e617ac82)\" d=\"M 154.306022 224.64 \n",
       "L 166.285344 224.64 \n",
       "L 166.285344 20.325197 \n",
       "L 154.306022 20.325197 \n",
       "z\n",
       "\" style=\"fill:#ff0000;opacity:0.4;\"/>\n",
       "   </g>\n",
       "   <g id=\"patch_27\">\n",
       "    <path clip-path=\"url(#p24e617ac82)\" d=\"M 166.285344 224.64 \n",
       "L 178.264667 224.64 \n",
       "L 178.264667 20.325197 \n",
       "L 166.285344 20.325197 \n",
       "z\n",
       "\" style=\"fill:#ff0000;opacity:0.4;\"/>\n",
       "   </g>\n",
       "   <g id=\"patch_28\">\n",
       "    <path clip-path=\"url(#p24e617ac82)\" d=\"M 178.264667 224.64 \n",
       "L 190.243989 224.64 \n",
       "L 190.243989 68.087099 \n",
       "L 178.264667 68.087099 \n",
       "z\n",
       "\" style=\"fill:#ff0000;opacity:0.4;\"/>\n",
       "   </g>\n",
       "   <g id=\"patch_29\">\n",
       "    <path clip-path=\"url(#p24e617ac82)\" d=\"M 190.243989 224.64 \n",
       "L 202.223312 224.64 \n",
       "L 202.223312 81.354294 \n",
       "L 190.243989 81.354294 \n",
       "z\n",
       "\" style=\"fill:#ff0000;opacity:0.4;\"/>\n",
       "   </g>\n",
       "   <g id=\"patch_30\">\n",
       "    <path clip-path=\"url(#p24e617ac82)\" d=\"M 202.223312 224.64 \n",
       "L 214.202634 224.64 \n",
       "L 214.202634 97.274928 \n",
       "L 202.223312 97.274928 \n",
       "z\n",
       "\" style=\"fill:#ff0000;opacity:0.4;\"/>\n",
       "   </g>\n",
       "   <g id=\"patch_31\">\n",
       "    <path clip-path=\"url(#p24e617ac82)\" d=\"M 214.202634 224.64 \n",
       "L 226.181957 224.64 \n",
       "L 226.181957 145.03683 \n",
       "L 214.202634 145.03683 \n",
       "z\n",
       "\" style=\"fill:#ff0000;opacity:0.4;\"/>\n",
       "   </g>\n",
       "   <g id=\"patch_32\">\n",
       "    <path clip-path=\"url(#p24e617ac82)\" d=\"M 226.181957 224.64 \n",
       "L 238.161279 224.64 \n",
       "L 238.161279 182.184976 \n",
       "L 226.181957 182.184976 \n",
       "z\n",
       "\" style=\"fill:#ff0000;opacity:0.4;\"/>\n",
       "   </g>\n",
       "   <g id=\"patch_33\">\n",
       "    <path clip-path=\"url(#p24e617ac82)\" d=\"M 238.161279 224.64 \n",
       "L 250.140602 224.64 \n",
       "L 250.140602 190.145293 \n",
       "L 238.161279 190.145293 \n",
       "z\n",
       "\" style=\"fill:#ff0000;opacity:0.4;\"/>\n",
       "   </g>\n",
       "   <g id=\"patch_34\">\n",
       "    <path clip-path=\"url(#p24e617ac82)\" d=\"M 250.140602 224.64 \n",
       "L 262.119924 224.64 \n",
       "L 262.119924 195.452171 \n",
       "L 250.140602 195.452171 \n",
       "z\n",
       "\" style=\"fill:#ff0000;opacity:0.4;\"/>\n",
       "   </g>\n",
       "   <g id=\"patch_35\">\n",
       "    <path clip-path=\"url(#p24e617ac82)\" d=\"M 262.119924 224.64 \n",
       "L 274.099247 224.64 \n",
       "L 274.099247 200.759049 \n",
       "L 262.119924 200.759049 \n",
       "z\n",
       "\" style=\"fill:#ff0000;opacity:0.4;\"/>\n",
       "   </g>\n",
       "   <g id=\"patch_36\">\n",
       "    <path clip-path=\"url(#p24e617ac82)\" d=\"M 274.099247 224.64 \n",
       "L 286.078569 224.64 \n",
       "L 286.078569 206.065927 \n",
       "L 274.099247 206.065927 \n",
       "z\n",
       "\" style=\"fill:#ff0000;opacity:0.4;\"/>\n",
       "   </g>\n",
       "   <g id=\"patch_37\">\n",
       "    <path clip-path=\"url(#p24e617ac82)\" d=\"M 286.078569 224.64 \n",
       "L 298.057892 224.64 \n",
       "L 298.057892 221.986561 \n",
       "L 286.078569 221.986561 \n",
       "z\n",
       "\" style=\"fill:#ff0000;opacity:0.4;\"/>\n",
       "   </g>\n",
       "   <g id=\"patch_38\">\n",
       "    <path clip-path=\"url(#p24e617ac82)\" d=\"M 298.057892 224.64 \n",
       "L 310.037214 224.64 \n",
       "L 310.037214 208.719366 \n",
       "L 298.057892 208.719366 \n",
       "z\n",
       "\" style=\"fill:#ff0000;opacity:0.4;\"/>\n",
       "   </g>\n",
       "   <g id=\"matplotlib.axis_1\">\n",
       "    <g id=\"xtick_1\">\n",
       "     <g id=\"line2d_1\">\n",
       "      <defs>\n",
       "       <path d=\"M 0 0 \n",
       "L 0 3.5 \n",
       "\" id=\"m12d4883517\" style=\"stroke:#000000;stroke-width:0.8;\"/>\n",
       "      </defs>\n",
       "      <g>\n",
       "       <use style=\"stroke:#000000;stroke-width:0.8;\" x=\"91.455604\" xlink:href=\"#m12d4883517\" y=\"224.64\"/>\n",
       "      </g>\n",
       "     </g>\n",
       "     <g id=\"text_1\">\n",
       "      <!-- 0 -->\n",
       "      <defs>\n",
       "       <path d=\"M 31.78125 66.40625 \n",
       "Q 24.171875 66.40625 20.328125 58.90625 \n",
       "Q 16.5 51.421875 16.5 36.375 \n",
       "Q 16.5 21.390625 20.328125 13.890625 \n",
       "Q 24.171875 6.390625 31.78125 6.390625 \n",
       "Q 39.453125 6.390625 43.28125 13.890625 \n",
       "Q 47.125 21.390625 47.125 36.375 \n",
       "Q 47.125 51.421875 43.28125 58.90625 \n",
       "Q 39.453125 66.40625 31.78125 66.40625 \n",
       "z\n",
       "M 31.78125 74.21875 \n",
       "Q 44.046875 74.21875 50.515625 64.515625 \n",
       "Q 56.984375 54.828125 56.984375 36.375 \n",
       "Q 56.984375 17.96875 50.515625 8.265625 \n",
       "Q 44.046875 -1.421875 31.78125 -1.421875 \n",
       "Q 19.53125 -1.421875 13.0625 8.265625 \n",
       "Q 6.59375 17.96875 6.59375 36.375 \n",
       "Q 6.59375 54.828125 13.0625 64.515625 \n",
       "Q 19.53125 74.21875 31.78125 74.21875 \n",
       "z\n",
       "\" id=\"DejaVuSans-48\"/>\n",
       "      </defs>\n",
       "      <g transform=\"translate(88.274354 239.238437)scale(0.1 -0.1)\">\n",
       "       <use xlink:href=\"#DejaVuSans-48\"/>\n",
       "      </g>\n",
       "     </g>\n",
       "    </g>\n",
       "    <g id=\"xtick_2\">\n",
       "     <g id=\"line2d_2\">\n",
       "      <g>\n",
       "       <use style=\"stroke:#000000;stroke-width:0.8;\" x=\"150.531715\" xlink:href=\"#m12d4883517\" y=\"224.64\"/>\n",
       "      </g>\n",
       "     </g>\n",
       "     <g id=\"text_2\">\n",
       "      <!-- 20 -->\n",
       "      <defs>\n",
       "       <path d=\"M 19.1875 8.296875 \n",
       "L 53.609375 8.296875 \n",
       "L 53.609375 0 \n",
       "L 7.328125 0 \n",
       "L 7.328125 8.296875 \n",
       "Q 12.9375 14.109375 22.625 23.890625 \n",
       "Q 32.328125 33.6875 34.8125 36.53125 \n",
       "Q 39.546875 41.84375 41.421875 45.53125 \n",
       "Q 43.3125 49.21875 43.3125 52.78125 \n",
       "Q 43.3125 58.59375 39.234375 62.25 \n",
       "Q 35.15625 65.921875 28.609375 65.921875 \n",
       "Q 23.96875 65.921875 18.8125 64.3125 \n",
       "Q 13.671875 62.703125 7.8125 59.421875 \n",
       "L 7.8125 69.390625 \n",
       "Q 13.765625 71.78125 18.9375 73 \n",
       "Q 24.125 74.21875 28.421875 74.21875 \n",
       "Q 39.75 74.21875 46.484375 68.546875 \n",
       "Q 53.21875 62.890625 53.21875 53.421875 \n",
       "Q 53.21875 48.921875 51.53125 44.890625 \n",
       "Q 49.859375 40.875 45.40625 35.40625 \n",
       "Q 44.1875 33.984375 37.640625 27.21875 \n",
       "Q 31.109375 20.453125 19.1875 8.296875 \n",
       "z\n",
       "\" id=\"DejaVuSans-50\"/>\n",
       "      </defs>\n",
       "      <g transform=\"translate(144.169215 239.238437)scale(0.1 -0.1)\">\n",
       "       <use xlink:href=\"#DejaVuSans-50\"/>\n",
       "       <use x=\"63.623047\" xlink:href=\"#DejaVuSans-48\"/>\n",
       "      </g>\n",
       "     </g>\n",
       "    </g>\n",
       "    <g id=\"xtick_3\">\n",
       "     <g id=\"line2d_3\">\n",
       "      <g>\n",
       "       <use style=\"stroke:#000000;stroke-width:0.8;\" x=\"209.607826\" xlink:href=\"#m12d4883517\" y=\"224.64\"/>\n",
       "      </g>\n",
       "     </g>\n",
       "     <g id=\"text_3\">\n",
       "      <!-- 40 -->\n",
       "      <defs>\n",
       "       <path d=\"M 37.796875 64.3125 \n",
       "L 12.890625 25.390625 \n",
       "L 37.796875 25.390625 \n",
       "z\n",
       "M 35.203125 72.90625 \n",
       "L 47.609375 72.90625 \n",
       "L 47.609375 25.390625 \n",
       "L 58.015625 25.390625 \n",
       "L 58.015625 17.1875 \n",
       "L 47.609375 17.1875 \n",
       "L 47.609375 0 \n",
       "L 37.796875 0 \n",
       "L 37.796875 17.1875 \n",
       "L 4.890625 17.1875 \n",
       "L 4.890625 26.703125 \n",
       "z\n",
       "\" id=\"DejaVuSans-52\"/>\n",
       "      </defs>\n",
       "      <g transform=\"translate(203.245326 239.238437)scale(0.1 -0.1)\">\n",
       "       <use xlink:href=\"#DejaVuSans-52\"/>\n",
       "       <use x=\"63.623047\" xlink:href=\"#DejaVuSans-48\"/>\n",
       "      </g>\n",
       "     </g>\n",
       "    </g>\n",
       "    <g id=\"xtick_4\">\n",
       "     <g id=\"line2d_4\">\n",
       "      <g>\n",
       "       <use style=\"stroke:#000000;stroke-width:0.8;\" x=\"268.683937\" xlink:href=\"#m12d4883517\" y=\"224.64\"/>\n",
       "      </g>\n",
       "     </g>\n",
       "     <g id=\"text_4\">\n",
       "      <!-- 60 -->\n",
       "      <defs>\n",
       "       <path d=\"M 33.015625 40.375 \n",
       "Q 26.375 40.375 22.484375 35.828125 \n",
       "Q 18.609375 31.296875 18.609375 23.390625 \n",
       "Q 18.609375 15.53125 22.484375 10.953125 \n",
       "Q 26.375 6.390625 33.015625 6.390625 \n",
       "Q 39.65625 6.390625 43.53125 10.953125 \n",
       "Q 47.40625 15.53125 47.40625 23.390625 \n",
       "Q 47.40625 31.296875 43.53125 35.828125 \n",
       "Q 39.65625 40.375 33.015625 40.375 \n",
       "z\n",
       "M 52.59375 71.296875 \n",
       "L 52.59375 62.3125 \n",
       "Q 48.875 64.0625 45.09375 64.984375 \n",
       "Q 41.3125 65.921875 37.59375 65.921875 \n",
       "Q 27.828125 65.921875 22.671875 59.328125 \n",
       "Q 17.53125 52.734375 16.796875 39.40625 \n",
       "Q 19.671875 43.65625 24.015625 45.921875 \n",
       "Q 28.375 48.1875 33.59375 48.1875 \n",
       "Q 44.578125 48.1875 50.953125 41.515625 \n",
       "Q 57.328125 34.859375 57.328125 23.390625 \n",
       "Q 57.328125 12.15625 50.6875 5.359375 \n",
       "Q 44.046875 -1.421875 33.015625 -1.421875 \n",
       "Q 20.359375 -1.421875 13.671875 8.265625 \n",
       "Q 6.984375 17.96875 6.984375 36.375 \n",
       "Q 6.984375 53.65625 15.1875 63.9375 \n",
       "Q 23.390625 74.21875 37.203125 74.21875 \n",
       "Q 40.921875 74.21875 44.703125 73.484375 \n",
       "Q 48.484375 72.75 52.59375 71.296875 \n",
       "z\n",
       "\" id=\"DejaVuSans-54\"/>\n",
       "      </defs>\n",
       "      <g transform=\"translate(262.321437 239.238437)scale(0.1 -0.1)\">\n",
       "       <use xlink:href=\"#DejaVuSans-54\"/>\n",
       "       <use x=\"63.623047\" xlink:href=\"#DejaVuSans-48\"/>\n",
       "      </g>\n",
       "     </g>\n",
       "    </g>\n",
       "    <g id=\"xtick_5\">\n",
       "     <g id=\"line2d_5\">\n",
       "      <g>\n",
       "       <use style=\"stroke:#000000;stroke-width:0.8;\" x=\"327.760048\" xlink:href=\"#m12d4883517\" y=\"224.64\"/>\n",
       "      </g>\n",
       "     </g>\n",
       "     <g id=\"text_5\">\n",
       "      <!-- 80 -->\n",
       "      <defs>\n",
       "       <path d=\"M 31.78125 34.625 \n",
       "Q 24.75 34.625 20.71875 30.859375 \n",
       "Q 16.703125 27.09375 16.703125 20.515625 \n",
       "Q 16.703125 13.921875 20.71875 10.15625 \n",
       "Q 24.75 6.390625 31.78125 6.390625 \n",
       "Q 38.8125 6.390625 42.859375 10.171875 \n",
       "Q 46.921875 13.96875 46.921875 20.515625 \n",
       "Q 46.921875 27.09375 42.890625 30.859375 \n",
       "Q 38.875 34.625 31.78125 34.625 \n",
       "z\n",
       "M 21.921875 38.8125 \n",
       "Q 15.578125 40.375 12.03125 44.71875 \n",
       "Q 8.5 49.078125 8.5 55.328125 \n",
       "Q 8.5 64.0625 14.71875 69.140625 \n",
       "Q 20.953125 74.21875 31.78125 74.21875 \n",
       "Q 42.671875 74.21875 48.875 69.140625 \n",
       "Q 55.078125 64.0625 55.078125 55.328125 \n",
       "Q 55.078125 49.078125 51.53125 44.71875 \n",
       "Q 48 40.375 41.703125 38.8125 \n",
       "Q 48.828125 37.15625 52.796875 32.3125 \n",
       "Q 56.78125 27.484375 56.78125 20.515625 \n",
       "Q 56.78125 9.90625 50.3125 4.234375 \n",
       "Q 43.84375 -1.421875 31.78125 -1.421875 \n",
       "Q 19.734375 -1.421875 13.25 4.234375 \n",
       "Q 6.78125 9.90625 6.78125 20.515625 \n",
       "Q 6.78125 27.484375 10.78125 32.3125 \n",
       "Q 14.796875 37.15625 21.921875 38.8125 \n",
       "z\n",
       "M 18.3125 54.390625 \n",
       "Q 18.3125 48.734375 21.84375 45.5625 \n",
       "Q 25.390625 42.390625 31.78125 42.390625 \n",
       "Q 38.140625 42.390625 41.71875 45.5625 \n",
       "Q 45.3125 48.734375 45.3125 54.390625 \n",
       "Q 45.3125 60.0625 41.71875 63.234375 \n",
       "Q 38.140625 66.40625 31.78125 66.40625 \n",
       "Q 25.390625 66.40625 21.84375 63.234375 \n",
       "Q 18.3125 60.0625 18.3125 54.390625 \n",
       "z\n",
       "\" id=\"DejaVuSans-56\"/>\n",
       "      </defs>\n",
       "      <g transform=\"translate(321.397548 239.238437)scale(0.1 -0.1)\">\n",
       "       <use xlink:href=\"#DejaVuSans-56\"/>\n",
       "       <use x=\"63.623047\" xlink:href=\"#DejaVuSans-48\"/>\n",
       "      </g>\n",
       "     </g>\n",
       "    </g>\n",
       "    <g id=\"text_6\">\n",
       "     <!-- Age -->\n",
       "     <defs>\n",
       "      <path d=\"M 34.1875 63.1875 \n",
       "L 20.796875 26.90625 \n",
       "L 47.609375 26.90625 \n",
       "z\n",
       "M 28.609375 72.90625 \n",
       "L 39.796875 72.90625 \n",
       "L 67.578125 0 \n",
       "L 57.328125 0 \n",
       "L 50.6875 18.703125 \n",
       "L 17.828125 18.703125 \n",
       "L 11.1875 0 \n",
       "L 0.78125 0 \n",
       "z\n",
       "\" id=\"DejaVuSans-65\"/>\n",
       "      <path d=\"M 45.40625 27.984375 \n",
       "Q 45.40625 37.75 41.375 43.109375 \n",
       "Q 37.359375 48.484375 30.078125 48.484375 \n",
       "Q 22.859375 48.484375 18.828125 43.109375 \n",
       "Q 14.796875 37.75 14.796875 27.984375 \n",
       "Q 14.796875 18.265625 18.828125 12.890625 \n",
       "Q 22.859375 7.515625 30.078125 7.515625 \n",
       "Q 37.359375 7.515625 41.375 12.890625 \n",
       "Q 45.40625 18.265625 45.40625 27.984375 \n",
       "z\n",
       "M 54.390625 6.78125 \n",
       "Q 54.390625 -7.171875 48.1875 -13.984375 \n",
       "Q 42 -20.796875 29.203125 -20.796875 \n",
       "Q 24.46875 -20.796875 20.265625 -20.09375 \n",
       "Q 16.0625 -19.390625 12.109375 -17.921875 \n",
       "L 12.109375 -9.1875 \n",
       "Q 16.0625 -11.328125 19.921875 -12.34375 \n",
       "Q 23.78125 -13.375 27.78125 -13.375 \n",
       "Q 36.625 -13.375 41.015625 -8.765625 \n",
       "Q 45.40625 -4.15625 45.40625 5.171875 \n",
       "L 45.40625 9.625 \n",
       "Q 42.625 4.78125 38.28125 2.390625 \n",
       "Q 33.9375 0 27.875 0 \n",
       "Q 17.828125 0 11.671875 7.65625 \n",
       "Q 5.515625 15.328125 5.515625 27.984375 \n",
       "Q 5.515625 40.671875 11.671875 48.328125 \n",
       "Q 17.828125 56 27.875 56 \n",
       "Q 33.9375 56 38.28125 53.609375 \n",
       "Q 42.625 51.21875 45.40625 46.390625 \n",
       "L 45.40625 54.6875 \n",
       "L 54.390625 54.6875 \n",
       "z\n",
       "\" id=\"DejaVuSans-103\"/>\n",
       "      <path d=\"M 56.203125 29.59375 \n",
       "L 56.203125 25.203125 \n",
       "L 14.890625 25.203125 \n",
       "Q 15.484375 15.921875 20.484375 11.0625 \n",
       "Q 25.484375 6.203125 34.421875 6.203125 \n",
       "Q 39.59375 6.203125 44.453125 7.46875 \n",
       "Q 49.3125 8.734375 54.109375 11.28125 \n",
       "L 54.109375 2.78125 \n",
       "Q 49.265625 0.734375 44.1875 -0.34375 \n",
       "Q 39.109375 -1.421875 33.890625 -1.421875 \n",
       "Q 20.796875 -1.421875 13.15625 6.1875 \n",
       "Q 5.515625 13.8125 5.515625 26.8125 \n",
       "Q 5.515625 40.234375 12.765625 48.109375 \n",
       "Q 20.015625 56 32.328125 56 \n",
       "Q 43.359375 56 49.78125 48.890625 \n",
       "Q 56.203125 41.796875 56.203125 29.59375 \n",
       "z\n",
       "M 47.21875 32.234375 \n",
       "Q 47.125 39.59375 43.09375 43.984375 \n",
       "Q 39.0625 48.390625 32.421875 48.390625 \n",
       "Q 24.90625 48.390625 20.390625 44.140625 \n",
       "Q 15.875 39.890625 15.1875 32.171875 \n",
       "z\n",
       "\" id=\"DejaVuSans-101\"/>\n",
       "     </defs>\n",
       "     <g transform=\"translate(200.557031 252.916562)scale(0.1 -0.1)\">\n",
       "      <use xlink:href=\"#DejaVuSans-65\"/>\n",
       "      <use x=\"68.408203\" xlink:href=\"#DejaVuSans-103\"/>\n",
       "      <use x=\"131.884766\" xlink:href=\"#DejaVuSans-101\"/>\n",
       "     </g>\n",
       "    </g>\n",
       "   </g>\n",
       "   <g id=\"matplotlib.axis_2\">\n",
       "    <g id=\"ytick_1\">\n",
       "     <g id=\"line2d_6\">\n",
       "      <defs>\n",
       "       <path d=\"M 0 0 \n",
       "L -3.5 0 \n",
       "\" id=\"m8863d94dd6\" style=\"stroke:#000000;stroke-width:0.8;\"/>\n",
       "      </defs>\n",
       "      <g>\n",
       "       <use style=\"stroke:#000000;stroke-width:0.8;\" x=\"42.828125\" xlink:href=\"#m8863d94dd6\" y=\"224.64\"/>\n",
       "      </g>\n",
       "     </g>\n",
       "     <g id=\"text_7\">\n",
       "      <!-- 0.000 -->\n",
       "      <defs>\n",
       "       <path d=\"M 10.6875 12.40625 \n",
       "L 21 12.40625 \n",
       "L 21 0 \n",
       "L 10.6875 0 \n",
       "z\n",
       "\" id=\"DejaVuSans-46\"/>\n",
       "      </defs>\n",
       "      <g transform=\"translate(7.2 228.439219)scale(0.1 -0.1)\">\n",
       "       <use xlink:href=\"#DejaVuSans-48\"/>\n",
       "       <use x=\"63.623047\" xlink:href=\"#DejaVuSans-46\"/>\n",
       "       <use x=\"95.410156\" xlink:href=\"#DejaVuSans-48\"/>\n",
       "       <use x=\"159.033203\" xlink:href=\"#DejaVuSans-48\"/>\n",
       "       <use x=\"222.65625\" xlink:href=\"#DejaVuSans-48\"/>\n",
       "      </g>\n",
       "     </g>\n",
       "    </g>\n",
       "    <g id=\"ytick_2\">\n",
       "     <g id=\"line2d_7\">\n",
       "      <g>\n",
       "       <use style=\"stroke:#000000;stroke-width:0.8;\" x=\"42.828125\" xlink:href=\"#m8863d94dd6\" y=\"195.10059\"/>\n",
       "      </g>\n",
       "     </g>\n",
       "     <g id=\"text_8\">\n",
       "      <!-- 0.005 -->\n",
       "      <defs>\n",
       "       <path d=\"M 10.796875 72.90625 \n",
       "L 49.515625 72.90625 \n",
       "L 49.515625 64.59375 \n",
       "L 19.828125 64.59375 \n",
       "L 19.828125 46.734375 \n",
       "Q 21.96875 47.46875 24.109375 47.828125 \n",
       "Q 26.265625 48.1875 28.421875 48.1875 \n",
       "Q 40.625 48.1875 47.75 41.5 \n",
       "Q 54.890625 34.8125 54.890625 23.390625 \n",
       "Q 54.890625 11.625 47.5625 5.09375 \n",
       "Q 40.234375 -1.421875 26.90625 -1.421875 \n",
       "Q 22.3125 -1.421875 17.546875 -0.640625 \n",
       "Q 12.796875 0.140625 7.71875 1.703125 \n",
       "L 7.71875 11.625 \n",
       "Q 12.109375 9.234375 16.796875 8.0625 \n",
       "Q 21.484375 6.890625 26.703125 6.890625 \n",
       "Q 35.15625 6.890625 40.078125 11.328125 \n",
       "Q 45.015625 15.765625 45.015625 23.390625 \n",
       "Q 45.015625 31 40.078125 35.4375 \n",
       "Q 35.15625 39.890625 26.703125 39.890625 \n",
       "Q 22.75 39.890625 18.8125 39.015625 \n",
       "Q 14.890625 38.140625 10.796875 36.28125 \n",
       "z\n",
       "\" id=\"DejaVuSans-53\"/>\n",
       "      </defs>\n",
       "      <g transform=\"translate(7.2 198.899809)scale(0.1 -0.1)\">\n",
       "       <use xlink:href=\"#DejaVuSans-48\"/>\n",
       "       <use x=\"63.623047\" xlink:href=\"#DejaVuSans-46\"/>\n",
       "       <use x=\"95.410156\" xlink:href=\"#DejaVuSans-48\"/>\n",
       "       <use x=\"159.033203\" xlink:href=\"#DejaVuSans-48\"/>\n",
       "       <use x=\"222.65625\" xlink:href=\"#DejaVuSans-53\"/>\n",
       "      </g>\n",
       "     </g>\n",
       "    </g>\n",
       "    <g id=\"ytick_3\">\n",
       "     <g id=\"line2d_8\">\n",
       "      <g>\n",
       "       <use style=\"stroke:#000000;stroke-width:0.8;\" x=\"42.828125\" xlink:href=\"#m8863d94dd6\" y=\"165.561181\"/>\n",
       "      </g>\n",
       "     </g>\n",
       "     <g id=\"text_9\">\n",
       "      <!-- 0.010 -->\n",
       "      <defs>\n",
       "       <path d=\"M 12.40625 8.296875 \n",
       "L 28.515625 8.296875 \n",
       "L 28.515625 63.921875 \n",
       "L 10.984375 60.40625 \n",
       "L 10.984375 69.390625 \n",
       "L 28.421875 72.90625 \n",
       "L 38.28125 72.90625 \n",
       "L 38.28125 8.296875 \n",
       "L 54.390625 8.296875 \n",
       "L 54.390625 0 \n",
       "L 12.40625 0 \n",
       "z\n",
       "\" id=\"DejaVuSans-49\"/>\n",
       "      </defs>\n",
       "      <g transform=\"translate(7.2 169.3604)scale(0.1 -0.1)\">\n",
       "       <use xlink:href=\"#DejaVuSans-48\"/>\n",
       "       <use x=\"63.623047\" xlink:href=\"#DejaVuSans-46\"/>\n",
       "       <use x=\"95.410156\" xlink:href=\"#DejaVuSans-48\"/>\n",
       "       <use x=\"159.033203\" xlink:href=\"#DejaVuSans-49\"/>\n",
       "       <use x=\"222.65625\" xlink:href=\"#DejaVuSans-48\"/>\n",
       "      </g>\n",
       "     </g>\n",
       "    </g>\n",
       "    <g id=\"ytick_4\">\n",
       "     <g id=\"line2d_9\">\n",
       "      <g>\n",
       "       <use style=\"stroke:#000000;stroke-width:0.8;\" x=\"42.828125\" xlink:href=\"#m8863d94dd6\" y=\"136.021771\"/>\n",
       "      </g>\n",
       "     </g>\n",
       "     <g id=\"text_10\">\n",
       "      <!-- 0.015 -->\n",
       "      <g transform=\"translate(7.2 139.82099)scale(0.1 -0.1)\">\n",
       "       <use xlink:href=\"#DejaVuSans-48\"/>\n",
       "       <use x=\"63.623047\" xlink:href=\"#DejaVuSans-46\"/>\n",
       "       <use x=\"95.410156\" xlink:href=\"#DejaVuSans-48\"/>\n",
       "       <use x=\"159.033203\" xlink:href=\"#DejaVuSans-49\"/>\n",
       "       <use x=\"222.65625\" xlink:href=\"#DejaVuSans-53\"/>\n",
       "      </g>\n",
       "     </g>\n",
       "    </g>\n",
       "    <g id=\"ytick_5\">\n",
       "     <g id=\"line2d_10\">\n",
       "      <g>\n",
       "       <use style=\"stroke:#000000;stroke-width:0.8;\" x=\"42.828125\" xlink:href=\"#m8863d94dd6\" y=\"106.482362\"/>\n",
       "      </g>\n",
       "     </g>\n",
       "     <g id=\"text_11\">\n",
       "      <!-- 0.020 -->\n",
       "      <g transform=\"translate(7.2 110.28158)scale(0.1 -0.1)\">\n",
       "       <use xlink:href=\"#DejaVuSans-48\"/>\n",
       "       <use x=\"63.623047\" xlink:href=\"#DejaVuSans-46\"/>\n",
       "       <use x=\"95.410156\" xlink:href=\"#DejaVuSans-48\"/>\n",
       "       <use x=\"159.033203\" xlink:href=\"#DejaVuSans-50\"/>\n",
       "       <use x=\"222.65625\" xlink:href=\"#DejaVuSans-48\"/>\n",
       "      </g>\n",
       "     </g>\n",
       "    </g>\n",
       "    <g id=\"ytick_6\">\n",
       "     <g id=\"line2d_11\">\n",
       "      <g>\n",
       "       <use style=\"stroke:#000000;stroke-width:0.8;\" x=\"42.828125\" xlink:href=\"#m8863d94dd6\" y=\"76.942952\"/>\n",
       "      </g>\n",
       "     </g>\n",
       "     <g id=\"text_12\">\n",
       "      <!-- 0.025 -->\n",
       "      <g transform=\"translate(7.2 80.742171)scale(0.1 -0.1)\">\n",
       "       <use xlink:href=\"#DejaVuSans-48\"/>\n",
       "       <use x=\"63.623047\" xlink:href=\"#DejaVuSans-46\"/>\n",
       "       <use x=\"95.410156\" xlink:href=\"#DejaVuSans-48\"/>\n",
       "       <use x=\"159.033203\" xlink:href=\"#DejaVuSans-50\"/>\n",
       "       <use x=\"222.65625\" xlink:href=\"#DejaVuSans-53\"/>\n",
       "      </g>\n",
       "     </g>\n",
       "    </g>\n",
       "    <g id=\"ytick_7\">\n",
       "     <g id=\"line2d_12\">\n",
       "      <g>\n",
       "       <use style=\"stroke:#000000;stroke-width:0.8;\" x=\"42.828125\" xlink:href=\"#m8863d94dd6\" y=\"47.403542\"/>\n",
       "      </g>\n",
       "     </g>\n",
       "     <g id=\"text_13\">\n",
       "      <!-- 0.030 -->\n",
       "      <defs>\n",
       "       <path d=\"M 40.578125 39.3125 \n",
       "Q 47.65625 37.796875 51.625 33 \n",
       "Q 55.609375 28.21875 55.609375 21.1875 \n",
       "Q 55.609375 10.40625 48.1875 4.484375 \n",
       "Q 40.765625 -1.421875 27.09375 -1.421875 \n",
       "Q 22.515625 -1.421875 17.65625 -0.515625 \n",
       "Q 12.796875 0.390625 7.625 2.203125 \n",
       "L 7.625 11.71875 \n",
       "Q 11.71875 9.328125 16.59375 8.109375 \n",
       "Q 21.484375 6.890625 26.8125 6.890625 \n",
       "Q 36.078125 6.890625 40.9375 10.546875 \n",
       "Q 45.796875 14.203125 45.796875 21.1875 \n",
       "Q 45.796875 27.640625 41.28125 31.265625 \n",
       "Q 36.765625 34.90625 28.71875 34.90625 \n",
       "L 20.21875 34.90625 \n",
       "L 20.21875 43.015625 \n",
       "L 29.109375 43.015625 \n",
       "Q 36.375 43.015625 40.234375 45.921875 \n",
       "Q 44.09375 48.828125 44.09375 54.296875 \n",
       "Q 44.09375 59.90625 40.109375 62.90625 \n",
       "Q 36.140625 65.921875 28.71875 65.921875 \n",
       "Q 24.65625 65.921875 20.015625 65.03125 \n",
       "Q 15.375 64.15625 9.8125 62.3125 \n",
       "L 9.8125 71.09375 \n",
       "Q 15.4375 72.65625 20.34375 73.4375 \n",
       "Q 25.25 74.21875 29.59375 74.21875 \n",
       "Q 40.828125 74.21875 47.359375 69.109375 \n",
       "Q 53.90625 64.015625 53.90625 55.328125 \n",
       "Q 53.90625 49.265625 50.4375 45.09375 \n",
       "Q 46.96875 40.921875 40.578125 39.3125 \n",
       "z\n",
       "\" id=\"DejaVuSans-51\"/>\n",
       "      </defs>\n",
       "      <g transform=\"translate(7.2 51.202761)scale(0.1 -0.1)\">\n",
       "       <use xlink:href=\"#DejaVuSans-48\"/>\n",
       "       <use x=\"63.623047\" xlink:href=\"#DejaVuSans-46\"/>\n",
       "       <use x=\"95.410156\" xlink:href=\"#DejaVuSans-48\"/>\n",
       "       <use x=\"159.033203\" xlink:href=\"#DejaVuSans-51\"/>\n",
       "       <use x=\"222.65625\" xlink:href=\"#DejaVuSans-48\"/>\n",
       "      </g>\n",
       "     </g>\n",
       "    </g>\n",
       "    <g id=\"ytick_8\">\n",
       "     <g id=\"line2d_13\">\n",
       "      <g>\n",
       "       <use style=\"stroke:#000000;stroke-width:0.8;\" x=\"42.828125\" xlink:href=\"#m8863d94dd6\" y=\"17.864133\"/>\n",
       "      </g>\n",
       "     </g>\n",
       "     <g id=\"text_14\">\n",
       "      <!-- 0.035 -->\n",
       "      <g transform=\"translate(7.2 21.663352)scale(0.1 -0.1)\">\n",
       "       <use xlink:href=\"#DejaVuSans-48\"/>\n",
       "       <use x=\"63.623047\" xlink:href=\"#DejaVuSans-46\"/>\n",
       "       <use x=\"95.410156\" xlink:href=\"#DejaVuSans-48\"/>\n",
       "       <use x=\"159.033203\" xlink:href=\"#DejaVuSans-51\"/>\n",
       "       <use x=\"222.65625\" xlink:href=\"#DejaVuSans-53\"/>\n",
       "      </g>\n",
       "     </g>\n",
       "    </g>\n",
       "   </g>\n",
       "   <g id=\"line2d_14\">\n",
       "    <path clip-path=\"url(#p24e617ac82)\" d=\"M 58.046307 224.410585 \n",
       "L 60.442871 224.223751 \n",
       "L 62.839435 223.895245 \n",
       "L 65.235999 223.350265 \n",
       "L 67.632563 222.489075 \n",
       "L 70.029127 221.189391 \n",
       "L 72.425691 219.315269 \n",
       "L 74.822255 216.733923 \n",
       "L 77.218819 213.340234 \n",
       "L 79.615383 209.086177 \n",
       "L 82.011947 204.00976 \n",
       "L 84.408512 198.256169 \n",
       "L 91.598204 179.971972 \n",
       "L 93.994768 174.880293 \n",
       "L 96.391332 170.949793 \n",
       "L 98.787896 168.445067 \n",
       "L 101.18446 167.476098 \n",
       "L 103.581024 167.977498 \n",
       "L 105.977588 169.71355 \n",
       "L 108.374152 172.306588 \n",
       "L 113.16728 178.121822 \n",
       "L 115.563844 180.317028 \n",
       "L 117.960408 181.415051 \n",
       "L 120.356973 181.056147 \n",
       "L 122.753537 178.998802 \n",
       "L 125.150101 175.133439 \n",
       "L 127.546665 169.484654 \n",
       "L 129.943229 162.202127 \n",
       "L 132.339793 153.540664 \n",
       "L 134.736357 143.830865 \n",
       "L 139.529485 122.753024 \n",
       "L 144.322613 101.792088 \n",
       "L 146.719177 92.047745 \n",
       "L 149.115741 83.043817 \n",
       "L 151.512305 74.902124 \n",
       "L 153.908869 67.705537 \n",
       "L 156.305434 61.506165 \n",
       "L 158.701998 56.327632 \n",
       "L 161.098562 52.162613 \n",
       "L 163.495126 48.969888 \n",
       "L 165.89169 46.676168 \n",
       "L 168.288254 45.186273 \n",
       "L 170.684818 44.401621 \n",
       "L 173.081382 44.242914 \n",
       "L 175.477946 44.67023 \n",
       "L 177.87451 45.693559 \n",
       "L 180.271074 47.36937 \n",
       "L 182.667638 49.782993 \n",
       "L 185.064202 53.021093 \n",
       "L 187.460766 57.141571 \n",
       "L 189.85733 62.149049 \n",
       "L 192.253895 67.982498 \n",
       "L 194.650459 74.518034 \n",
       "L 199.443587 88.994754 \n",
       "L 206.633279 111.575769 \n",
       "L 211.426407 125.789402 \n",
       "L 213.822971 132.430589 \n",
       "L 216.219535 138.674811 \n",
       "L 218.616099 144.446722 \n",
       "L 221.012663 149.671838 \n",
       "L 223.409227 154.294951 \n",
       "L 225.805791 158.300755 \n",
       "L 228.202355 161.728722 \n",
       "L 230.59892 164.675822 \n",
       "L 232.995484 167.284584 \n",
       "L 240.185176 174.647871 \n",
       "L 244.978304 180.167111 \n",
       "L 254.56456 191.86061 \n",
       "L 256.961124 194.459321 \n",
       "L 259.357688 196.833532 \n",
       "L 261.754252 198.991901 \n",
       "L 266.547381 202.826952 \n",
       "L 276.133637 210.084698 \n",
       "L 283.323329 215.717052 \n",
       "L 285.719893 217.448325 \n",
       "L 288.116457 219.015182 \n",
       "L 290.513021 220.376313 \n",
       "L 292.909585 221.508038 \n",
       "L 295.306149 222.40532 \n",
       "L 297.702713 223.079189 \n",
       "L 300.099277 223.551884 \n",
       "L 302.495842 223.851365 \n",
       "L 304.892406 224.006638 \n",
       "L 309.685534 223.990443 \n",
       "L 314.478662 223.692536 \n",
       "L 324.064918 222.978179 \n",
       "L 328.858046 222.901764 \n",
       "L 333.651174 223.103372 \n",
       "L 352.823687 224.461689 \n",
       "L 360.013379 224.547351 \n",
       "L 362.409943 224.507521 \n",
       "L 362.409943 224.507521 \n",
       "\" style=\"fill:none;stroke:#0000ff;stroke-linecap:square;stroke-width:1.5;\"/>\n",
       "   </g>\n",
       "   <g id=\"line2d_15\">\n",
       "    <path clip-path=\"url(#p24e617ac82)\" d=\"M 60.91891 224.557619 \n",
       "L 65.369443 224.397078 \n",
       "L 69.819975 223.9633 \n",
       "L 72.045241 223.56786 \n",
       "L 74.270507 223.00202 \n",
       "L 76.495774 222.226708 \n",
       "L 78.72104 221.209813 \n",
       "L 80.946306 219.933826 \n",
       "L 83.171572 218.403107 \n",
       "L 85.396838 216.648779 \n",
       "L 89.847371 212.725415 \n",
       "L 94.297903 208.832746 \n",
       "L 96.523169 207.10751 \n",
       "L 98.748435 205.598112 \n",
       "L 100.973701 204.312886 \n",
       "L 103.198968 203.224345 \n",
       "L 112.100032 199.334572 \n",
       "L 114.325298 197.920884 \n",
       "L 116.550565 196.027219 \n",
       "L 118.775831 193.449643 \n",
       "L 121.001097 189.956968 \n",
       "L 123.226363 185.307739 \n",
       "L 125.451629 179.279445 \n",
       "L 127.676895 171.705998 \n",
       "L 129.902162 162.515983 \n",
       "L 132.127428 151.762681 \n",
       "L 134.352694 139.637852 \n",
       "L 138.803226 112.670132 \n",
       "L 143.253759 85.17348 \n",
       "L 145.479025 72.421856 \n",
       "L 147.704291 60.859934 \n",
       "L 149.929557 50.755446 \n",
       "L 152.154823 42.262353 \n",
       "L 154.380089 35.428607 \n",
       "L 156.605356 30.215685 \n",
       "L 158.830622 26.52481 \n",
       "L 161.055888 24.224598 \n",
       "L 163.281154 23.175452 \n",
       "L 165.50642 23.247178 \n",
       "L 167.731686 24.327778 \n",
       "L 169.956953 26.323053 \n",
       "L 172.182219 29.148571 \n",
       "L 174.407485 32.717172 \n",
       "L 176.632751 36.92641 \n",
       "L 178.858017 41.650436 \n",
       "L 183.30855 52.030491 \n",
       "L 187.759082 62.592032 \n",
       "L 192.209614 72.432154 \n",
       "L 196.660147 81.480805 \n",
       "L 201.110679 90.459898 \n",
       "L 203.335945 95.232838 \n",
       "L 205.561211 100.325646 \n",
       "L 207.786477 105.783315 \n",
       "L 212.23701 117.713986 \n",
       "L 221.138074 142.998035 \n",
       "L 223.363341 148.945421 \n",
       "L 225.588607 154.570091 \n",
       "L 227.813873 159.830432 \n",
       "L 230.039139 164.708056 \n",
       "L 232.264405 169.202016 \n",
       "L 234.489671 173.322739 \n",
       "L 236.714938 177.086821 \n",
       "L 238.940204 180.513235 \n",
       "L 241.16547 183.620939 \n",
       "L 243.390736 186.427688 \n",
       "L 245.616002 188.949808 \n",
       "L 247.841268 191.202734 \n",
       "L 250.066535 193.202106 \n",
       "L 252.291801 194.965183 \n",
       "L 254.517067 196.512254 \n",
       "L 256.742333 197.867697 \n",
       "L 258.967599 199.060363 \n",
       "L 263.418132 201.091476 \n",
       "L 276.769729 206.639688 \n",
       "L 285.670793 210.685582 \n",
       "L 290.121326 212.454737 \n",
       "L 294.571858 213.969985 \n",
       "L 303.472923 216.885846 \n",
       "L 316.82452 221.828388 \n",
       "L 321.275052 223.019333 \n",
       "L 325.725584 223.80972 \n",
       "L 330.176117 224.263063 \n",
       "L 334.626649 224.487346 \n",
       "L 341.302447 224.590682 \n",
       "L 343.527714 224.585104 \n",
       "L 343.527714 224.585104 \n",
       "\" style=\"fill:none;stroke:#ff0000;stroke-linecap:square;stroke-width:1.5;\"/>\n",
       "   </g>\n",
       "   <g id=\"patch_39\">\n",
       "    <path d=\"M 42.828125 224.64 \n",
       "L 42.828125 7.2 \n",
       "\" style=\"fill:none;stroke:#000000;stroke-linecap:square;stroke-linejoin:miter;stroke-width:0.8;\"/>\n",
       "   </g>\n",
       "   <g id=\"patch_40\">\n",
       "    <path d=\"M 377.628125 224.64 \n",
       "L 377.628125 7.2 \n",
       "\" style=\"fill:none;stroke:#000000;stroke-linecap:square;stroke-linejoin:miter;stroke-width:0.8;\"/>\n",
       "   </g>\n",
       "   <g id=\"patch_41\">\n",
       "    <path d=\"M 42.828125 224.64 \n",
       "L 377.628125 224.64 \n",
       "\" style=\"fill:none;stroke:#000000;stroke-linecap:square;stroke-linejoin:miter;stroke-width:0.8;\"/>\n",
       "   </g>\n",
       "   <g id=\"patch_42\">\n",
       "    <path d=\"M 42.828125 7.2 \n",
       "L 377.628125 7.2 \n",
       "\" style=\"fill:none;stroke:#000000;stroke-linecap:square;stroke-linejoin:miter;stroke-width:0.8;\"/>\n",
       "   </g>\n",
       "   <g id=\"legend_1\">\n",
       "    <g id=\"patch_43\">\n",
       "     <path d=\"M 275.159375 44.55625 \n",
       "L 370.628125 44.55625 \n",
       "Q 372.628125 44.55625 372.628125 42.55625 \n",
       "L 372.628125 14.2 \n",
       "Q 372.628125 12.2 370.628125 12.2 \n",
       "L 275.159375 12.2 \n",
       "Q 273.159375 12.2 273.159375 14.2 \n",
       "L 273.159375 42.55625 \n",
       "Q 273.159375 44.55625 275.159375 44.55625 \n",
       "z\n",
       "\" style=\"fill:#ffffff;opacity:0.8;stroke:#cccccc;stroke-linejoin:miter;\"/>\n",
       "    </g>\n",
       "    <g id=\"patch_44\">\n",
       "     <path d=\"M 277.159375 23.798437 \n",
       "L 297.159375 23.798437 \n",
       "L 297.159375 16.798437 \n",
       "L 277.159375 16.798437 \n",
       "z\n",
       "\" style=\"fill:#0000ff;opacity:0.4;\"/>\n",
       "    </g>\n",
       "    <g id=\"text_15\">\n",
       "     <!-- Survived -->\n",
       "     <defs>\n",
       "      <path d=\"M 53.515625 70.515625 \n",
       "L 53.515625 60.890625 \n",
       "Q 47.90625 63.578125 42.921875 64.890625 \n",
       "Q 37.9375 66.21875 33.296875 66.21875 \n",
       "Q 25.25 66.21875 20.875 63.09375 \n",
       "Q 16.5 59.96875 16.5 54.203125 \n",
       "Q 16.5 49.359375 19.40625 46.890625 \n",
       "Q 22.3125 44.4375 30.421875 42.921875 \n",
       "L 36.375 41.703125 \n",
       "Q 47.40625 39.59375 52.65625 34.296875 \n",
       "Q 57.90625 29 57.90625 20.125 \n",
       "Q 57.90625 9.515625 50.796875 4.046875 \n",
       "Q 43.703125 -1.421875 29.984375 -1.421875 \n",
       "Q 24.8125 -1.421875 18.96875 -0.25 \n",
       "Q 13.140625 0.921875 6.890625 3.21875 \n",
       "L 6.890625 13.375 \n",
       "Q 12.890625 10.015625 18.65625 8.296875 \n",
       "Q 24.421875 6.59375 29.984375 6.59375 \n",
       "Q 38.421875 6.59375 43.015625 9.90625 \n",
       "Q 47.609375 13.234375 47.609375 19.390625 \n",
       "Q 47.609375 24.75 44.3125 27.78125 \n",
       "Q 41.015625 30.8125 33.5 32.328125 \n",
       "L 27.484375 33.5 \n",
       "Q 16.453125 35.6875 11.515625 40.375 \n",
       "Q 6.59375 45.0625 6.59375 53.421875 \n",
       "Q 6.59375 63.09375 13.40625 68.65625 \n",
       "Q 20.21875 74.21875 32.171875 74.21875 \n",
       "Q 37.3125 74.21875 42.625 73.28125 \n",
       "Q 47.953125 72.359375 53.515625 70.515625 \n",
       "z\n",
       "\" id=\"DejaVuSans-83\"/>\n",
       "      <path d=\"M 8.5 21.578125 \n",
       "L 8.5 54.6875 \n",
       "L 17.484375 54.6875 \n",
       "L 17.484375 21.921875 \n",
       "Q 17.484375 14.15625 20.5 10.265625 \n",
       "Q 23.53125 6.390625 29.59375 6.390625 \n",
       "Q 36.859375 6.390625 41.078125 11.03125 \n",
       "Q 45.3125 15.671875 45.3125 23.6875 \n",
       "L 45.3125 54.6875 \n",
       "L 54.296875 54.6875 \n",
       "L 54.296875 0 \n",
       "L 45.3125 0 \n",
       "L 45.3125 8.40625 \n",
       "Q 42.046875 3.421875 37.71875 1 \n",
       "Q 33.40625 -1.421875 27.6875 -1.421875 \n",
       "Q 18.265625 -1.421875 13.375 4.4375 \n",
       "Q 8.5 10.296875 8.5 21.578125 \n",
       "z\n",
       "M 31.109375 56 \n",
       "z\n",
       "\" id=\"DejaVuSans-117\"/>\n",
       "      <path d=\"M 41.109375 46.296875 \n",
       "Q 39.59375 47.171875 37.8125 47.578125 \n",
       "Q 36.03125 48 33.890625 48 \n",
       "Q 26.265625 48 22.1875 43.046875 \n",
       "Q 18.109375 38.09375 18.109375 28.8125 \n",
       "L 18.109375 0 \n",
       "L 9.078125 0 \n",
       "L 9.078125 54.6875 \n",
       "L 18.109375 54.6875 \n",
       "L 18.109375 46.1875 \n",
       "Q 20.953125 51.171875 25.484375 53.578125 \n",
       "Q 30.03125 56 36.53125 56 \n",
       "Q 37.453125 56 38.578125 55.875 \n",
       "Q 39.703125 55.765625 41.0625 55.515625 \n",
       "z\n",
       "\" id=\"DejaVuSans-114\"/>\n",
       "      <path d=\"M 2.984375 54.6875 \n",
       "L 12.5 54.6875 \n",
       "L 29.59375 8.796875 \n",
       "L 46.6875 54.6875 \n",
       "L 56.203125 54.6875 \n",
       "L 35.6875 0 \n",
       "L 23.484375 0 \n",
       "z\n",
       "\" id=\"DejaVuSans-118\"/>\n",
       "      <path d=\"M 9.421875 54.6875 \n",
       "L 18.40625 54.6875 \n",
       "L 18.40625 0 \n",
       "L 9.421875 0 \n",
       "z\n",
       "M 9.421875 75.984375 \n",
       "L 18.40625 75.984375 \n",
       "L 18.40625 64.59375 \n",
       "L 9.421875 64.59375 \n",
       "z\n",
       "\" id=\"DejaVuSans-105\"/>\n",
       "      <path d=\"M 45.40625 46.390625 \n",
       "L 45.40625 75.984375 \n",
       "L 54.390625 75.984375 \n",
       "L 54.390625 0 \n",
       "L 45.40625 0 \n",
       "L 45.40625 8.203125 \n",
       "Q 42.578125 3.328125 38.25 0.953125 \n",
       "Q 33.9375 -1.421875 27.875 -1.421875 \n",
       "Q 17.96875 -1.421875 11.734375 6.484375 \n",
       "Q 5.515625 14.40625 5.515625 27.296875 \n",
       "Q 5.515625 40.1875 11.734375 48.09375 \n",
       "Q 17.96875 56 27.875 56 \n",
       "Q 33.9375 56 38.25 53.625 \n",
       "Q 42.578125 51.265625 45.40625 46.390625 \n",
       "z\n",
       "M 14.796875 27.296875 \n",
       "Q 14.796875 17.390625 18.875 11.75 \n",
       "Q 22.953125 6.109375 30.078125 6.109375 \n",
       "Q 37.203125 6.109375 41.296875 11.75 \n",
       "Q 45.40625 17.390625 45.40625 27.296875 \n",
       "Q 45.40625 37.203125 41.296875 42.84375 \n",
       "Q 37.203125 48.484375 30.078125 48.484375 \n",
       "Q 22.953125 48.484375 18.875 42.84375 \n",
       "Q 14.796875 37.203125 14.796875 27.296875 \n",
       "z\n",
       "\" id=\"DejaVuSans-100\"/>\n",
       "     </defs>\n",
       "     <g transform=\"translate(305.159375 23.798437)scale(0.1 -0.1)\">\n",
       "      <use xlink:href=\"#DejaVuSans-83\"/>\n",
       "      <use x=\"63.476562\" xlink:href=\"#DejaVuSans-117\"/>\n",
       "      <use x=\"126.855469\" xlink:href=\"#DejaVuSans-114\"/>\n",
       "      <use x=\"167.96875\" xlink:href=\"#DejaVuSans-118\"/>\n",
       "      <use x=\"227.148438\" xlink:href=\"#DejaVuSans-105\"/>\n",
       "      <use x=\"254.931641\" xlink:href=\"#DejaVuSans-118\"/>\n",
       "      <use x=\"314.111328\" xlink:href=\"#DejaVuSans-101\"/>\n",
       "      <use x=\"375.634766\" xlink:href=\"#DejaVuSans-100\"/>\n",
       "     </g>\n",
       "    </g>\n",
       "    <g id=\"patch_45\">\n",
       "     <path d=\"M 277.159375 38.476562 \n",
       "L 297.159375 38.476562 \n",
       "L 297.159375 31.476562 \n",
       "L 277.159375 31.476562 \n",
       "z\n",
       "\" style=\"fill:#ff0000;opacity:0.4;\"/>\n",
       "    </g>\n",
       "    <g id=\"text_16\">\n",
       "     <!-- not Survived -->\n",
       "     <defs>\n",
       "      <path d=\"M 54.890625 33.015625 \n",
       "L 54.890625 0 \n",
       "L 45.90625 0 \n",
       "L 45.90625 32.71875 \n",
       "Q 45.90625 40.484375 42.875 44.328125 \n",
       "Q 39.84375 48.1875 33.796875 48.1875 \n",
       "Q 26.515625 48.1875 22.3125 43.546875 \n",
       "Q 18.109375 38.921875 18.109375 30.90625 \n",
       "L 18.109375 0 \n",
       "L 9.078125 0 \n",
       "L 9.078125 54.6875 \n",
       "L 18.109375 54.6875 \n",
       "L 18.109375 46.1875 \n",
       "Q 21.34375 51.125 25.703125 53.5625 \n",
       "Q 30.078125 56 35.796875 56 \n",
       "Q 45.21875 56 50.046875 50.171875 \n",
       "Q 54.890625 44.34375 54.890625 33.015625 \n",
       "z\n",
       "\" id=\"DejaVuSans-110\"/>\n",
       "      <path d=\"M 30.609375 48.390625 \n",
       "Q 23.390625 48.390625 19.1875 42.75 \n",
       "Q 14.984375 37.109375 14.984375 27.296875 \n",
       "Q 14.984375 17.484375 19.15625 11.84375 \n",
       "Q 23.34375 6.203125 30.609375 6.203125 \n",
       "Q 37.796875 6.203125 41.984375 11.859375 \n",
       "Q 46.1875 17.53125 46.1875 27.296875 \n",
       "Q 46.1875 37.015625 41.984375 42.703125 \n",
       "Q 37.796875 48.390625 30.609375 48.390625 \n",
       "z\n",
       "M 30.609375 56 \n",
       "Q 42.328125 56 49.015625 48.375 \n",
       "Q 55.71875 40.765625 55.71875 27.296875 \n",
       "Q 55.71875 13.875 49.015625 6.21875 \n",
       "Q 42.328125 -1.421875 30.609375 -1.421875 \n",
       "Q 18.84375 -1.421875 12.171875 6.21875 \n",
       "Q 5.515625 13.875 5.515625 27.296875 \n",
       "Q 5.515625 40.765625 12.171875 48.375 \n",
       "Q 18.84375 56 30.609375 56 \n",
       "z\n",
       "\" id=\"DejaVuSans-111\"/>\n",
       "      <path d=\"M 18.3125 70.21875 \n",
       "L 18.3125 54.6875 \n",
       "L 36.8125 54.6875 \n",
       "L 36.8125 47.703125 \n",
       "L 18.3125 47.703125 \n",
       "L 18.3125 18.015625 \n",
       "Q 18.3125 11.328125 20.140625 9.421875 \n",
       "Q 21.96875 7.515625 27.59375 7.515625 \n",
       "L 36.8125 7.515625 \n",
       "L 36.8125 0 \n",
       "L 27.59375 0 \n",
       "Q 17.1875 0 13.234375 3.875 \n",
       "Q 9.28125 7.765625 9.28125 18.015625 \n",
       "L 9.28125 47.703125 \n",
       "L 2.6875 47.703125 \n",
       "L 2.6875 54.6875 \n",
       "L 9.28125 54.6875 \n",
       "L 9.28125 70.21875 \n",
       "z\n",
       "\" id=\"DejaVuSans-116\"/>\n",
       "      <path id=\"DejaVuSans-32\"/>\n",
       "     </defs>\n",
       "     <g transform=\"translate(305.159375 38.476562)scale(0.1 -0.1)\">\n",
       "      <use xlink:href=\"#DejaVuSans-110\"/>\n",
       "      <use x=\"63.378906\" xlink:href=\"#DejaVuSans-111\"/>\n",
       "      <use x=\"124.560547\" xlink:href=\"#DejaVuSans-116\"/>\n",
       "      <use x=\"163.769531\" xlink:href=\"#DejaVuSans-32\"/>\n",
       "      <use x=\"195.556641\" xlink:href=\"#DejaVuSans-83\"/>\n",
       "      <use x=\"259.033203\" xlink:href=\"#DejaVuSans-117\"/>\n",
       "      <use x=\"322.412109\" xlink:href=\"#DejaVuSans-114\"/>\n",
       "      <use x=\"363.525391\" xlink:href=\"#DejaVuSans-118\"/>\n",
       "      <use x=\"422.705078\" xlink:href=\"#DejaVuSans-105\"/>\n",
       "      <use x=\"450.488281\" xlink:href=\"#DejaVuSans-118\"/>\n",
       "      <use x=\"509.667969\" xlink:href=\"#DejaVuSans-101\"/>\n",
       "      <use x=\"571.191406\" xlink:href=\"#DejaVuSans-100\"/>\n",
       "     </g>\n",
       "    </g>\n",
       "   </g>\n",
       "  </g>\n",
       " </g>\n",
       " <defs>\n",
       "  <clipPath id=\"p24e617ac82\">\n",
       "   <rect height=\"217.44\" width=\"334.8\" x=\"42.828125\" y=\"7.2\"/>\n",
       "  </clipPath>\n",
       " </defs>\n",
       "</svg>\n"
      ],
      "text/plain": [
       "<Figure size 432x288 with 1 Axes>"
      ]
     },
     "metadata": {
      "needs_background": "light"
     },
     "output_type": "display_data"
    }
   ],
   "source": [
    "# slice/filter the train dataframe to plot first only the survived passengers\n",
    "# and second only the not survived passengers\n",
    "\n",
    "###### YOUR CODE ######\n",
    "\n",
    "\n",
    "\n",
    "###### YOUR CODE ######\n",
    "\n",
    "\n",
    "plt.legend()\n",
    "\n",
    "plt.show()"
   ]
  },
  {
   "cell_type": "markdown",
   "metadata": {
    "colab_type": "text",
    "id": "MVdYbvSXcTQT"
   },
   "source": [
    "Here you should see that the distribution of survived passengers has two peaks. The big one is very close to the peak of not survived passengers, but the second smaller peak is in the range of small children. This means a lot more small children survived the tragic accident."
   ]
  },
  {
   "cell_type": "markdown",
   "metadata": {
    "colab_type": "text",
    "id": "JJJPZBHecTQU"
   },
   "source": []
  },
  {
   "cell_type": "markdown",
   "metadata": {
    "colab_type": "text",
    "id": "7SbiGN8ucTQV"
   },
   "source": [
    "## visualize and clean data: Sex\n",
    "\n",
    "Let's now anaylse the sex of the passengers. What do you think? Did more women or men survive the tragic titanc accident?\n",
    "\n",
    "Let's find out by plotting a barplot of the Sex column."
   ]
  },
  {
   "cell_type": "markdown",
   "metadata": {
    "colab_type": "text",
    "id": "tZ8GU9HYcTQW"
   },
   "source": [
    "<h4><font color='red'>TODO! COMPLETE THIS SECTION!</font></h4>"
   ]
  },
  {
   "cell_type": "code",
   "execution_count": 107,
   "metadata": {
    "colab": {
     "base_uri": "https://localhost:8080/",
     "height": 378
    },
    "colab_type": "code",
    "id": "i0yYOsoDcTQX",
    "outputId": "e33a3dc6-05ae-4496-bf7a-c98eaf63e98f"
   },
   "outputs": [
    {
     "data": {
      "image/png": "[encoded data removed]",
      "text/plain": [
       "<Figure size 432x288 with 1 Axes>"
      ]
     },
     "metadata": {},
     "output_type": "display_data"
    }
   ],
   "source": [
    "# use the barplot function of seaborn. \n",
    "# enter the train dataset as data and plot Sex (x)\n",
    "# against Survived (y)\n",
    "\n",
    "###### YOUR CODE ######\n",
    "ax = sns.boxplot(x=train['Sex'], y=train['Survived'], data=train)\n",
    "\n",
    "\n",
    "plt.show()"
   ]
  },
  {
   "cell_type": "markdown",
   "metadata": {
    "colab_type": "text",
    "id": "y7VHZ5aMcTQZ"
   },
   "source": [
    "The plot shows us that more female passengers survived than male passengers. \n",
    "\n",
    "Until now we have analysed the age and sex information. We saw that the age alone was not an important feature to predict who survived and who didn't, but the sex is. Do you think there is an age difference between survived and not survived inside each sex?\n",
    "\n",
    "Use boxplots to find out:"
   ]
  },
  {
   "cell_type": "markdown",
   "metadata": {
    "colab_type": "text",
    "id": "mC33sRVucTQa"
   },
   "source": [
    "<h4><font color='red'>TODO! COMPLETE THIS SECTION!</font></h4>"
   ]
  },
  {
   "cell_type": "code",
   "execution_count": 84,
   "metadata": {
    "colab": {
     "base_uri": "https://localhost:8080/",
     "height": 371
    },
    "colab_type": "code",
    "id": "FZ3Au0M_cTQb",
    "outputId": "d478cf8e-5296-4adc-aea0-98921481ac92"
   },
   "outputs": [
    {
     "data": {
      "image/png": "[encoded data removed]",
      "text/plain": [
       "<Figure size 1080x360 with 2 Axes>"
      ]
     },
     "metadata": {},
     "output_type": "display_data"
    }
   ],
   "source": [
    "# this will create a subplot figure with two plot side by side\n",
    "fig, ax = plt.subplots(1, 2, figsize=(15, 5))\n",
    "# first plot the data for females by \n",
    "# slicing/filtering the train data with 'female'\n",
    "\n",
    "###### YOUR CODE ######\n",
    "female_plot = train[(train['Sex'] == 'female')]\n",
    "sns.boxplot(x = female_plot['Survived'], y = female_plot['Age'], ax=ax[0])\n",
    "\n",
    "# second plot the data for males by slicing the train data with 'male'\n",
    "# don't forget to set the ax to ax[1]\n",
    "\n",
    "###### YOUR CODE ######\n",
    "male_plot = train[(train['Sex'] == 'male')]\n",
    "sns.boxplot(x = male_plot['Survived'], y = male_plot['Age'], ax=ax[1])\n",
    "\n",
    "\n",
    "\n",
    "plt.show()"
   ]
  },
  {
   "cell_type": "markdown",
   "metadata": {
    "colab_type": "text",
    "id": "KDcCJd0HcTQd"
   },
   "source": [
    "You should now see that both gender groups have an overlapping age range regarding survived and not survived passengers."
   ]
  },
  {
   "cell_type": "markdown",
   "metadata": {
    "colab_type": "text",
    "id": "iX3H1gYwcTQe"
   },
   "source": [
    "### visualize and clean data: Pclass"
   ]
  },
  {
   "cell_type": "markdown",
   "metadata": {
    "colab_type": "text",
    "id": "cAV5Dx-HcTQg"
   },
   "source": [
    "Recall that Pclass holds the information about the class each passenger had with 1 = first class, 2 = middle class and 3 = low class. Let's find out how the survival rate is distributed over the different classes."
   ]
  },
  {
   "cell_type": "markdown",
   "metadata": {
    "colab_type": "text",
    "id": "QiNmfoGzcTQh"
   },
   "source": [
    "<h4><font color='red'>TODO! COMPLETE THIS SECTION!</font></h4>"
   ]
  },
  {
   "cell_type": "code",
   "execution_count": 87,
   "metadata": {
    "colab": {
     "base_uri": "https://localhost:8080/",
     "height": 378
    },
    "colab_type": "code",
    "id": "bEg-oAzLcTQi",
    "outputId": "a1b834ce-b15f-45b4-d880-c643be18290e"
   },
   "outputs": [
    {
     "data": {
      "image/png": "[encoded data removed]",
      "text/plain": [
       "<Figure size 432x288 with 1 Axes>"
      ]
     },
     "metadata": {},
     "output_type": "display_data"
    }
   ],
   "source": [
    "# use seaborns barplot function to plot the information of Pclass against Survived\n",
    "\n",
    "###### YOUR CODE ######\n",
    "sns.barplot(x=train['Pclass'], y = train['Survived'])\n",
    "\n",
    "plt.show()"
   ]
  },
  {
   "cell_type": "markdown",
   "metadata": {
    "colab_type": "text",
    "id": "Iy2iUCNXcTQm"
   },
   "source": [
    "Did you anticipate the result? More people from the first class survived than from the second class and from the second class more people survived than from the thrid class.\n",
    "\n",
    "What does this distribution look like if we make the same analysis but differentiate between the two genders. You can do this by using the \"hue\" parameter of the barplot function in seaborn:"
   ]
  },
  {
   "cell_type": "markdown",
   "metadata": {
    "colab_type": "text",
    "id": "jIQclRqccTQn"
   },
   "source": [
    "<h4><font color='red'>TODO! COMPLETE THIS SECTION!</font></h4>"
   ]
  },
  {
   "cell_type": "code",
   "execution_count": 90,
   "metadata": {
    "colab": {
     "base_uri": "https://localhost:8080/",
     "height": 378
    },
    "colab_type": "code",
    "id": "s52toJt5cTQn",
    "outputId": "dfa78e74-117e-492e-ebe3-89c6f12b090d"
   },
   "outputs": [
    {
     "data": {
      "image/png": "[encoded data removed]",
      "text/plain": [
       "<Figure size 432x288 with 1 Axes>"
      ]
     },
     "metadata": {},
     "output_type": "display_data"
    }
   ],
   "source": [
    "# create a barplot with sex plotted against survived and set hue to 'Pclass'\n",
    "\n",
    "###### YOUR CODE ######\n",
    "sns.barplot(x=train['Sex'], y=train['Survived'], hue=train['Pclass'])\n",
    "\n",
    "\n",
    "plt.show()"
   ]
  },
  {
   "cell_type": "markdown",
   "metadata": {
    "colab_type": "text",
    "id": "R1EdTBLwcTQu"
   },
   "source": [
    "You should see a plot where each, male and female, have three bars representing the three different classes. \n",
    "\n",
    "Now we don't see a linear decline in survived passengers acrose the different classes. What you can see instead is that much more men from the first class survived. In contrast the percentage of survived women in the first and second class is nearly the same and much higher than the survival rate of the third class."
   ]
  },
  {
   "cell_type": "markdown",
   "metadata": {
    "colab_type": "text",
    "id": "xleeNmhHcTQu"
   },
   "source": [
    "### clean data: Embarked and Cabin\n",
    "Let's also clean the embarked and cabin column since it also has nan values:"
   ]
  },
  {
   "cell_type": "code",
   "execution_count": 109,
   "metadata": {
    "colab": {
     "base_uri": "https://localhost:8080/",
     "height": 238
    },
    "colab_type": "code",
    "id": "zVCMJ9e-cTQw",
    "outputId": "6e90180c-2c3f-44bc-8bcf-647fbc5756ac"
   },
   "outputs": [
    {
     "data": {
      "text/plain": [
       "PassengerId      0\n",
       "Survived         0\n",
       "Pclass           0\n",
       "Name             0\n",
       "Sex              0\n",
       "Age              0\n",
       "SibSp            0\n",
       "Parch            0\n",
       "Ticket           0\n",
       "Fare             0\n",
       "Cabin          687\n",
       "Embarked         2\n",
       "dtype: int64"
      ]
     },
     "execution_count": 109,
     "metadata": {},
     "output_type": "execute_result"
    }
   ],
   "source": [
    "train.isnull().sum()"
   ]
  },
  {
   "cell_type": "markdown",
   "metadata": {
    "colab_type": "text",
    "id": "y_70tRmXcTQ1"
   },
   "source": [
    "the embarked column has some missing value. Fill those with the most occurred value ('S')."
   ]
  },
  {
   "cell_type": "markdown",
   "metadata": {
    "colab_type": "text",
    "id": "dqGIfVx-cTQ2"
   },
   "source": [
    "<h4><font color='red'>TODO! COMPLETE THIS SECTION!</font></h4>"
   ]
  },
  {
   "cell_type": "code",
   "execution_count": 111,
   "metadata": {
    "colab": {},
    "colab_type": "code",
    "id": "Y_Q7XxmjcTQ4"
   },
   "outputs": [],
   "source": [
    "# use the fillna method to replace the nan's with 'S'\n",
    "\n",
    "###### YOUR CODE ######\n",
    "train['Embarked'].fillna(value = 'S', inplace = True)"
   ]
  },
  {
   "cell_type": "markdown",
   "metadata": {
    "colab_type": "text",
    "id": "XL58dMLLcTQ8"
   },
   "source": [
    "The cabin column has too many missing values (687 out of 891). Thus it is hard to replace the nan values with something meaningful. That's why we can just drop the column"
   ]
  },
  {
   "cell_type": "markdown",
   "metadata": {
    "colab_type": "text",
    "id": "W0PROYsEcTRA"
   },
   "source": [
    "<h4><font color='red'>TODO! COMPLETE THIS SECTION!</font></h4>"
   ]
  },
  {
   "cell_type": "code",
   "execution_count": 114,
   "metadata": {
    "colab": {},
    "colab_type": "code",
    "id": "8Eh3sSv4cTRC"
   },
   "outputs": [],
   "source": [
    "# drop the cabin column\n",
    "\n",
    "###### YOUR CODE ######\n",
    "train.drop(columns=['Cabin'], inplace=True)"
   ]
  },
  {
   "cell_type": "markdown",
   "metadata": {
    "colab_type": "text",
    "id": "X2WhNtJ1cTRF"
   },
   "source": [
    "Let's check once more if everything is clean"
   ]
  },
  {
   "cell_type": "code",
   "execution_count": 115,
   "metadata": {
    "colab": {
     "base_uri": "https://localhost:8080/",
     "height": 221
    },
    "colab_type": "code",
    "id": "WkCWLaf5cTRG",
    "outputId": "f7f9b1a2-ce05-4578-fd94-046aa9679f5d"
   },
   "outputs": [
    {
     "data": {
      "text/plain": [
       "PassengerId    0\n",
       "Survived       0\n",
       "Pclass         0\n",
       "Name           0\n",
       "Sex            0\n",
       "Age            0\n",
       "SibSp          0\n",
       "Parch          0\n",
       "Ticket         0\n",
       "Fare           0\n",
       "Embarked       0\n",
       "dtype: int64"
      ]
     },
     "execution_count": 115,
     "metadata": {},
     "output_type": "execute_result"
    }
   ],
   "source": [
    "train.isnull().sum()"
   ]
  },
  {
   "cell_type": "markdown",
   "metadata": {
    "colab_type": "text",
    "id": "BaopGs24cTRJ"
   },
   "source": [
    "YAHOO!!! You successfully managed to clean the dataframe."
   ]
  },
  {
   "cell_type": "markdown",
   "metadata": {
    "colab_type": "text",
    "id": "-fIV_1rrcTRK"
   },
   "source": [
    "### create new feature\n",
    "Besides analysing features in a dataset the task of a good data scientist is also to use the existing dataset to come up with new features. This it not an easy task but it is a task where you can be very creative. What do yo think could be another interesing feature? You can scroll to the describtion of the dataset if you want to remind yourself what other information is stored in the dataframe and what you could use to create new features. \n",
    "\n",
    "For the rest of the notebook, we'll use two additional features. But feel free to further play around and also check other features! :)\n",
    "\n",
    "1. family size \n",
    "2. alone\n"
   ]
  },
  {
   "cell_type": "markdown",
   "metadata": {
    "colab_type": "text",
    "id": "3Xf11vV_cTRN"
   },
   "source": [
    "### new feature: family size\n",
    "With the number of siblings/spouses from the column SibSp and the number of children/parents from the Parch column we can create a new feature called family size. "
   ]
  },
  {
   "cell_type": "markdown",
   "metadata": {
    "colab_type": "text",
    "id": "6T9iu8pVcTRO"
   },
   "source": [
    "<h4><font color='red'>TODO! COMPLETE THIS SECTION!</font></h4>"
   ]
  },
  {
   "cell_type": "code",
   "execution_count": 122,
   "metadata": {
    "colab": {},
    "colab_type": "code",
    "id": "1f4AvEsRcTRP"
   },
   "outputs": [
    {
     "name": "stdout",
     "output_type": "stream",
     "text": [
      "(891, 13)\n"
     ]
    }
   ],
   "source": [
    "# create the family size feature by adding the SibSp and Parch columns\n",
    "# (don't forget to add 1 because the person with the family is also a member of the family)\n",
    "\n",
    "###### YOUR CODE ######\n",
    "train['FamilySize'] = train['SibSp'] + train['Parch'] + 1\n",
    "print(train.shape)"
   ]
  },
  {
   "cell_type": "markdown",
   "metadata": {
    "colab_type": "text",
    "id": "q7gjDXVDcTRV"
   },
   "source": [
    "Great! You now created the FamilySize feature. Let's have a look at the question if bigger or smaller families survived."
   ]
  },
  {
   "cell_type": "markdown",
   "metadata": {
    "colab_type": "text",
    "id": "iBcKMSpYcTRX"
   },
   "source": [
    "<h4><font color='red'>TODO! COMPLETE THIS SECTION!</font></h4>"
   ]
  },
  {
   "cell_type": "code",
   "execution_count": 123,
   "metadata": {
    "colab": {
     "base_uri": "https://localhost:8080/",
     "height": 378
    },
    "colab_type": "code",
    "id": "6qIbJW3ocTRY",
    "outputId": "66200eec-3f06-4b03-eecb-b4c85e4b473b"
   },
   "outputs": [
    {
     "data": {
      "image/png": "[encoded data removed]",
      "text/plain": [
       "<Figure size 432x288 with 1 Axes>"
      ]
     },
     "metadata": {},
     "output_type": "display_data"
    }
   ],
   "source": [
    "# use a boxplot and plot Survived against FamilySize \n",
    "# use the train dataframe as data input into the boxplot method\n",
    "\n",
    "###### YOUR CODE ######\n",
    "sns.boxplot(x=train['Survived'], y=train['FamilySize'])\n",
    "\n",
    "plt.show()"
   ]
  },
  {
   "cell_type": "markdown",
   "metadata": {
    "colab_type": "text",
    "id": "D-i7o9qycTRh"
   },
   "source": [
    "you should see that both boxplots have an overlap but the the family sizes of survived passengers are distributed over a larger range. Does this mean that bigger families had a bigger chance to survive?"
   ]
  },
  {
   "cell_type": "markdown",
   "metadata": {
    "colab_type": "text",
    "id": "6yCeWIuPcTRi"
   },
   "source": [
    "### new feature: is alone\n",
    "\n",
    "In the last section you successfully created a new feature called FamilySize. Now you can leverage that feature to create another one. This time you will create the \"is alone\" feature. This will denote if a passenger was alone on the ship (= 1) or if he was there with his family (= 0)."
   ]
  },
  {
   "cell_type": "markdown",
   "metadata": {
    "colab_type": "text",
    "id": "u2rQTtWGcTRj"
   },
   "source": [
    "<h4><font color='red'>TODO! COMPLETE THIS SECTION!</font></h4>"
   ]
  },
  {
   "cell_type": "code",
   "execution_count": 131,
   "metadata": {
    "colab": {},
    "colab_type": "code",
    "id": "OyjN1cXwcTRk"
   },
   "outputs": [],
   "source": [
    "# create a IsAlone column (1 = is alone, 0 = is not alone).\n",
    "# first create the column and set it so 0\n",
    "\n",
    "###### YOUR CODE ######\n",
    "train['IsAlone'] = 0\n",
    "\n",
    "# now filter the dataframe and set IsAlone to 1 where FamilySize is equal to 1\n",
    "\n",
    "###### YOUR CODE ######\n",
    "train.IsAlone = (train.FamilySize <= 1).astype(int)\n"
   ]
  },
  {
   "cell_type": "markdown",
   "metadata": {
    "colab_type": "text",
    "id": "hU2-ZuwNcTRp"
   },
   "source": [
    "Now check how many passengers survived who were alone and how many survived who were not alone"
   ]
  },
  {
   "cell_type": "markdown",
   "metadata": {
    "colab_type": "text",
    "id": "eEOJGs3icTRq"
   },
   "source": [
    "<h4><font color='red'>TODO! COMPLETE THIS SECTION!</font></h4>"
   ]
  },
  {
   "cell_type": "code",
   "execution_count": 132,
   "metadata": {
    "colab": {
     "base_uri": "https://localhost:8080/",
     "height": 378
    },
    "colab_type": "code",
    "id": "ui74bSmzcTRs",
    "outputId": "8959ebe2-4d6d-4de4-e5ef-71c3bf4ec426"
   },
   "outputs": [
    {
     "data": {
      "image/png": "[encoded data removed]",
      "text/plain": [
       "<Figure size 432x288 with 1 Axes>"
      ]
     },
     "metadata": {},
     "output_type": "display_data"
    }
   ],
   "source": [
    "# use a barplot again and plot the IsAlone column against the Survived column\n",
    "\n",
    "\n",
    "###### YOUR CODE ######\n",
    "sns.barplot(x=train['IsAlone'], y=train['Survived'])\n",
    "plt.show()"
   ]
  },
  {
   "cell_type": "markdown",
   "metadata": {
    "colab_type": "text",
    "id": "_OJbqQBZcTRv"
   },
   "source": [
    "You should see that approximately 50% of passengers survived who were not alone and that sadly only 30 of lone passengers survived.\n",
    "\n",
    "Since we now have a lot of interesting features, we can also ask and analyse interesting questions. For example we saw that more women than men survived and that inside both groups the age wasn't a big differentiator. But what do you think? Did more lone women than not lone women survive? And how did being alone affect the men?\n",
    "\n",
    "To answer this you can again use a barplot."
   ]
  },
  {
   "cell_type": "code",
   "execution_count": 134,
   "metadata": {
    "colab": {
     "base_uri": "https://localhost:8080/",
     "height": 382
    },
    "colab_type": "code",
    "id": "hpCG9xAXcTRv",
    "outputId": "c22e43cb-4f60-471a-f847-81de3eacc63e",
    "scrolled": false
   },
   "outputs": [
    {
     "data": {
      "image/png": "[encoded data removed]",
      "text/plain": [
       "<Figure size 432x288 with 1 Axes>"
      ]
     },
     "metadata": {},
     "output_type": "display_data"
    }
   ],
   "source": [
    "# use seaborns barplot function and plot Sex against Survived\n",
    "# and set the hue to IsAlone\n",
    "\n",
    "###### YOUR CODE ######\n",
    "sns.barplot(x=train['Sex'], y=train['Survived'],hue=train['IsAlone'])\n",
    "plt.show()"
   ]
  },
  {
   "cell_type": "markdown",
   "metadata": {
    "colab_type": "text",
    "id": "X0Ol6Vw-cTRy"
   },
   "source": [
    "You should now see that being alone affected the genders and their change of survival differently. More lone females survived the titanic accident but in contast more lone males died in the titanic accident."
   ]
  },
  {
   "cell_type": "markdown",
   "metadata": {
    "colab_type": "text",
    "id": "JuIQnWn7cTRz"
   },
   "source": [
    "# DONE!\n",
    "If you reached this part - well done :) you should now be very good at cleaning, investigating and visualizing data. \n",
    "The Techlabs AI track will help you to gain further knowledge in the field of AI!"
   ]
  }
 ],
 "metadata": {
  "colab": {
   "name": "techlabs_notebook_titanic_solution.ipynb",
   "provenance": [],
   "toc_visible": true,
   "version": "0.3.2"
  },
  "kernelspec": {
   "display_name": "Python 3 (ipykernel)",
   "language": "python",
   "name": "python3"
  },
  "language_info": {
   "codemirror_mode": {
    "name": "ipython",
    "version": 3
   },
   "file_extension": ".py",
   "mimetype": "text/x-python",
   "name": "python",
   "nbconvert_exporter": "python",
   "pygments_lexer": "ipython3",
   "version": "3.6.5"
  }
 },
 "nbformat": 4,
 "nbformat_minor": 1
}
